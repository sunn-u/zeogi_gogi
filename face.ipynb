{
  "nbformat": 4,
  "nbformat_minor": 0,
  "metadata": {
    "colab": {
      "name": "face.ipynb",
      "provenance": [],
      "collapsed_sections": []
    },
    "kernelspec": {
      "name": "python3",
      "display_name": "Python 3"
    },
    "accelerator": "GPU"
  },
  "cells": [
    {
      "cell_type": "code",
      "metadata": {
        "id": "uv1eILpMnMoU"
      },
      "source": [
        ""
      ],
      "execution_count": null,
      "outputs": []
    },
    {
      "cell_type": "code",
      "metadata": {
        "colab": {
          "base_uri": "https://localhost:8080/"
        },
        "id": "Iaq4nwgpw0jb",
        "outputId": "927fb0e4-eaae-406c-e71a-271ff51fbfc3"
      },
      "source": [
        "!pip3 install http://download.pytorch.org/whl/cu80/torch-0.3.0.post4-cp36-cp36m-linux_x86_64.whl\n",
        "!pip3 install torchvision"
      ],
      "execution_count": null,
      "outputs": [
        {
          "output_type": "stream",
          "text": [
            "\u001b[31mERROR: torch-0.3.0.post4-cp36-cp36m-linux_x86_64.whl is not a supported wheel on this platform.\u001b[0m\n",
            "Requirement already satisfied: torchvision in /usr/local/lib/python3.7/dist-packages (0.9.1+cu101)\n",
            "Requirement already satisfied: torch==1.8.1 in /usr/local/lib/python3.7/dist-packages (from torchvision) (1.8.1+cu101)\n",
            "Requirement already satisfied: numpy in /usr/local/lib/python3.7/dist-packages (from torchvision) (1.19.5)\n",
            "Requirement already satisfied: pillow>=4.1.1 in /usr/local/lib/python3.7/dist-packages (from torchvision) (7.1.2)\n",
            "Requirement already satisfied: typing-extensions in /usr/local/lib/python3.7/dist-packages (from torch==1.8.1->torchvision) (3.7.4.3)\n"
          ],
          "name": "stdout"
        }
      ]
    },
    {
      "cell_type": "markdown",
      "metadata": {
        "id": "M4ayEKAermW4"
      },
      "source": [
        "GoogleDrive와 Colab 연동"
      ]
    },
    {
      "cell_type": "code",
      "metadata": {
        "colab": {
          "base_uri": "https://localhost:8080/"
        },
        "id": "2HkX3XRtrba5",
        "outputId": "3ceffea6-2037-4c79-96d1-6c73d6431500"
      },
      "source": [
        "from google.colab import drive\n",
        "drive.mount('/content/gdrive/')"
      ],
      "execution_count": null,
      "outputs": [
        {
          "output_type": "stream",
          "text": [
            "Mounted at /content/gdrive/\n"
          ],
          "name": "stdout"
        }
      ]
    },
    {
      "cell_type": "markdown",
      "metadata": {
        "id": "yr6hnnbqtTS-"
      },
      "source": [
        "Data 확인"
      ]
    },
    {
      "cell_type": "code",
      "metadata": {
        "id": "Ah24mIatrlo-"
      },
      "source": [
        "import os\n",
        "from glob import glob\n",
        "\n",
        "data_dir = os.listdir('/content/gdrive/Shareddrives/zeogi_gogi/dataset/')"
      ],
      "execution_count": null,
      "outputs": []
    },
    {
      "cell_type": "code",
      "metadata": {
        "colab": {
          "base_uri": "https://localhost:8080/"
        },
        "id": "V9k68Qzgrlro",
        "outputId": "96c77404-f946-4565-ef3a-65c28c519c9e"
      },
      "source": [
        "data_dir"
      ],
      "execution_count": null,
      "outputs": [
        {
          "output_type": "execute_result",
          "data": {
            "text/plain": [
              "['fear', 'happy', 'sad', 'neutral', 'disgust', 'surprise', 'angry']"
            ]
          },
          "metadata": {
            "tags": []
          },
          "execution_count": 3
        }
      ]
    },
    {
      "cell_type": "code",
      "metadata": {
        "colab": {
          "base_uri": "https://localhost:8080/"
        },
        "id": "vHAxsOj6DqzU",
        "outputId": "90563de6-592d-4930-f997-2777a418328d"
      },
      "source": [
        "for i in data_dir:\n",
        "  data_f = glob('/content/gdrive/Shareddrives/zeogi_gogi/dataset/' + i + '/*')\n",
        "  print(i, len(data_f))"
      ],
      "execution_count": null,
      "outputs": [
        {
          "output_type": "stream",
          "text": [
            "fear 4000\n",
            "happy 4206\n",
            "sad 4331\n",
            "neutral 5104\n",
            "disgust 4000\n",
            "surprise 4000\n",
            "angry 6568\n"
          ],
          "name": "stdout"
        }
      ]
    },
    {
      "cell_type": "code",
      "metadata": {
        "id": "-IARz-smrlul"
      },
      "source": [
        "from glob import glob\n",
        "DATA_LIST = glob('/content/gdrive/Shareddrives/zeogi_gogi/dataset/*/*.jpg')"
      ],
      "execution_count": null,
      "outputs": []
    },
    {
      "cell_type": "code",
      "metadata": {
        "colab": {
          "base_uri": "https://localhost:8080/"
        },
        "id": "q8n4lu3RrlxI",
        "outputId": "d86e3381-bf91-4ea5-abd7-bc8a52e74e35"
      },
      "source": [
        "len(DATA_LIST)"
      ],
      "execution_count": null,
      "outputs": [
        {
          "output_type": "execute_result",
          "data": {
            "text/plain": [
              "32209"
            ]
          },
          "metadata": {
            "tags": []
          },
          "execution_count": 7
        }
      ]
    },
    {
      "cell_type": "code",
      "metadata": {
        "colab": {
          "base_uri": "https://localhost:8080/"
        },
        "id": "LHDGp_Wfrl2v",
        "outputId": "f1c1476b-eeea-493e-85c0-578e692dac8b"
      },
      "source": [
        "from sklearn.model_selection import train_test_split\n",
        "\n",
        "train_img_list, val_img_list = train_test_split(DATA_LIST, test_size = 0.1, random_state=2000)\n",
        "print(len(train_img_list), len(val_img_list))"
      ],
      "execution_count": null,
      "outputs": [
        {
          "output_type": "stream",
          "text": [
            "28988 3221\n"
          ],
          "name": "stdout"
        }
      ]
    },
    {
      "cell_type": "code",
      "metadata": {
        "colab": {
          "base_uri": "https://localhost:8080/"
        },
        "id": "C4fPsdepvmCw",
        "outputId": "87d97c50-fa3a-4cd0-d97a-99f0d5227ddd"
      },
      "source": [
        "val_img_list[:5]"
      ],
      "execution_count": null,
      "outputs": [
        {
          "output_type": "execute_result",
          "data": {
            "text/plain": [
              "['/content/gdrive/Shareddrives/zeogi_gogi/dataset/angry/angry_3805.jpg',\n",
              " '/content/gdrive/Shareddrives/zeogi_gogi/dataset/angry/angry_0808.jpg',\n",
              " '/content/gdrive/Shareddrives/zeogi_gogi/dataset/fear/fear_1189.jpg',\n",
              " '/content/gdrive/Shareddrives/zeogi_gogi/dataset/happy/happy_1062.jpg',\n",
              " '/content/gdrive/Shareddrives/zeogi_gogi/dataset/disgust/disgust_2562.jpg']"
            ]
          },
          "metadata": {
            "tags": []
          },
          "execution_count": 8
        }
      ]
    },
    {
      "cell_type": "code",
      "metadata": {
        "colab": {
          "base_uri": "https://localhost:8080/"
        },
        "id": "fcjW-4AMTCvE",
        "outputId": "442dead7-028e-4ab5-c386-b4a16370654b"
      },
      "source": [
        "for i in val_img_list[:5]:\n",
        "  print(i.split('/')[-2])"
      ],
      "execution_count": null,
      "outputs": [
        {
          "output_type": "stream",
          "text": [
            "angry\n",
            "angry\n",
            "fear\n",
            "happy\n",
            "disgust\n"
          ],
          "name": "stdout"
        }
      ]
    },
    {
      "cell_type": "markdown",
      "metadata": {
        "id": "RgayD37mwBb-"
      },
      "source": [
        "DataLoader"
      ]
    },
    {
      "cell_type": "code",
      "metadata": {
        "id": "V2i-yHdW_P_o"
      },
      "source": [
        "import torch\n",
        "#from torch.utils.data import Dataset, DataLoader, ConcatDataset, Sampler, RandomSampler, BatchSampler\n",
        "from torch.utils.data import *\n",
        "from skimage import io, transform\n",
        "from torchvision import transforms\n",
        "import cv2\n",
        "\n",
        "\n",
        "classes = ('fear', 'happy', 'sad', 'neutral', 'disgust', 'surprise', 'angry')\n",
        "\n",
        "\n",
        "class MyDataSet(Dataset):\n",
        "\n",
        "  #data_path_list - 이미지 path 전체 리스트\n",
        "  #label - 이미지 ground truth\n",
        "  def __init__(self, data_path_list, classes, transform=None):\n",
        "    self.path_list = data_path_list\n",
        "    self.label = MyDataSet.get_label(data_path_list)\n",
        "    self.transform = transform\n",
        "    self.classes = classes\n",
        "\n",
        "  def get_label(data_path_list):\n",
        "    label_list = []\n",
        "    for path in data_path_list:\n",
        "      # 뒤에서 두번째가 class다.\n",
        "      label_list.append(path.split('/')[-2])   \n",
        "    return label_list\n",
        "\n",
        "  def __len__(self):\n",
        "    return len(self.path_list)\n",
        "\n",
        "  def __getitem__(self, idx):\n",
        "    if torch.is_tensor(idx):\n",
        "      idx = idx.tolist()\n",
        "    image = io.imread(self.path_list[idx], as_gray=True)     # 이미지가 grayscale과 컬러가 섞여있어 gray로 통일\n",
        "    if self.transform is not None:\n",
        "      image = self.transform(image)\n",
        "      return image, self.classes.index(self.label[idx])"
      ],
      "execution_count": null,
      "outputs": []
    },
    {
      "cell_type": "code",
      "metadata": {
        "colab": {
          "base_uri": "https://localhost:8080/"
        },
        "id": "b_8A7LLw_P3G",
        "outputId": "165739a3-2d2d-493d-8313-9ab32aabb0f5"
      },
      "source": [
        "from sklearn.model_selection import train_test_split\n",
        "from glob import glob\n",
        "import os\n",
        "\n",
        "d_path = '/content/gdrive/Shareddrives/zeogi_gogi/dataset/'\n",
        "f_dir = os.listdir(d_path)\n",
        "\n",
        "TRAIN_LIST = []\n",
        "VAL_LIST = []\n",
        "\n",
        "for i in f_dir:\n",
        "  DATA_LIST = glob(d_path + str(i) + '/*.jpg')\n",
        "  train_img_list, val_img_list = train_test_split(DATA_LIST[:4000], test_size = 0.1, random_state=2002)\n",
        "  print(len(train_img_list), len(val_img_list))\n",
        "  for j in train_img_list:\n",
        "    TRAIN_LIST.append(j)\n",
        "  for k in val_img_list:\n",
        "    VAL_LIST.append(k)\n",
        "\n",
        "print(len(TRAIN_LIST), len(VAL_LIST))"
      ],
      "execution_count": null,
      "outputs": [
        {
          "output_type": "stream",
          "text": [
            "3600 400\n",
            "3600 400\n",
            "3600 400\n",
            "3600 400\n",
            "3600 400\n",
            "3600 400\n",
            "3600 400\n",
            "25200 2800\n"
          ],
          "name": "stdout"
        }
      ]
    },
    {
      "cell_type": "code",
      "metadata": {
        "id": "_B2Xsinj_Pqv"
      },
      "source": [
        "'''\n",
        "transform = transforms.Compose(\n",
        "    [transforms.ToTensor(),\n",
        "     transforms.Normalize((0.5,), (0.5,))])   # 흑백이미지 transforms.Normalize((0.5,), (0.5,))\n",
        "                                              # 컬러이미지 transforms.Normalize((0.5, 0.5, 0.5), (0.5, 0.5, 0.5))\n",
        "'''\n",
        "transform = transforms.Compose(\n",
        "    [transforms.ToTensor(),\n",
        "     transforms.Resize((200,200))])\n",
        "\n",
        "\n",
        "#own dataset\n",
        "trainloader = torch.utils.data.DataLoader(MyDataSet(TRAIN_LIST, classes,transform=transform),batch_size=4,shuffle = True,drop_last=True)\n",
        "testloader = torch.utils.data.DataLoader(MyDataSet(VAL_LIST, classes,transform=transform),batch_size=4,shuffle = False,drop_last=True)"
      ],
      "execution_count": null,
      "outputs": []
    },
    {
      "cell_type": "markdown",
      "metadata": {
        "id": "36frJ_rFOdSl"
      },
      "source": [
        "한꺼번에 묶어둔것"
      ]
    },
    {
      "cell_type": "code",
      "metadata": {
        "id": "KlvnbaOQOOv6",
        "colab": {
          "base_uri": "https://localhost:8080/"
        },
        "outputId": "9659c332-cf3f-4ce0-d8f1-1d53f7a46248"
      },
      "source": [
        "import torch\n",
        "#from torch.utils.data import Dataset, DataLoader, ConcatDataset, Sampler, RandomSampler, BatchSampler\n",
        "from torch.utils.data import *\n",
        "from skimage import io, transform\n",
        "from torchvision import transforms\n",
        "import cv2\n",
        "from PIL import Image\n",
        "\n",
        "\n",
        "classes = ('fear', 'happy', 'sad', 'neutral', 'disgust', 'surprise', 'angry')\n",
        "\n",
        "\n",
        "class MyDataSet(Dataset):\n",
        "\n",
        "  #data_path_list - 이미지 path 전체 리스트\n",
        "  #label - 이미지 ground truth\n",
        "\n",
        "  # 데이터셋의 전처리를 해주는 부분\n",
        "  def __init__(self, data_path_list, classes, transform=None):\n",
        "    self.path_list = data_path_list\n",
        "    self.label = self.get_label(data_path_list)\n",
        "    self.transform = transform\n",
        "    self.classes = classes\n",
        "\n",
        "  def get_label(self, data_path_list):\n",
        "    label_list = []\n",
        "    for path in data_path_list:\n",
        "      # 뒤에서 두번째가 class다.\n",
        "      label_list.append(path.split('/')[-2])   \n",
        "    return label_list\n",
        "\n",
        "  # 데이터셋의 길이. 즉, 총 샘플의 수를 적어주는 부분. 데이터의 크기 리턴\n",
        "  def __len__(self):\n",
        "    return len(self.path_list)\n",
        "\n",
        "  # 데이터셋에서 특정 1개의 샘플을 가져오는 함수. dataset[i]를 했을 때 i번째 샘플을 가져오도록 하는 인덱싱을 위한 함수\n",
        "  def __getitem__(self, idx):\n",
        "    if torch.is_tensor(idx):\n",
        "      idx = idx.tolist()\n",
        "    image = io.imread(self.path_list[idx], as_gray=True)     # 이미지가 grayscale과 컬러가 섞여있어 gray로 통일\n",
        "    if self.transform is not None:\n",
        "      image = Image.fromarray(image)\n",
        "      image = self.transform(image)\n",
        "      #image = torch.from_numpy(image).float()\n",
        "      return image, self.classes.index(self.label[idx])\n",
        "\n",
        "\n",
        "from sklearn.model_selection import train_test_split\n",
        "from glob import glob\n",
        "import os\n",
        "\n",
        "d_path = '/content/gdrive/Shareddrives/zeogi_gogi/dataset/'\n",
        "f_dir = os.listdir(d_path)\n",
        "\n",
        "TRAIN_LIST = []\n",
        "VAL_LIST = []\n",
        "\n",
        "for i in f_dir:\n",
        "  DATA_LIST = glob(d_path + str(i) + '/*.jpg')\n",
        "  train_img_list, val_img_list = train_test_split(DATA_LIST[:4000], test_size = 0.1, random_state=2002)\n",
        "  print(len(train_img_list), len(val_img_list))\n",
        "  for j in train_img_list:\n",
        "    TRAIN_LIST.append(j)\n",
        "  for k in val_img_list:\n",
        "    VAL_LIST.append(k)\n",
        "\n",
        "#print(len(TRAIN_LIST), len(VAL_LIST))\n",
        "\n",
        "'''\n",
        "transform = transforms.Compose(\n",
        "    [transforms.ToTensor(),\n",
        "     transforms.Normalize((0.5,), (0.5,))])   # 흑백이미지 transforms.Normalize((0.5,), (0.5,))\n",
        "                                              # 컬러이미지 transforms.Normalize((0.5, 0.5, 0.5), (0.5, 0.5, 0.5))\n",
        "'''\n",
        "transform = transforms.Compose(\n",
        "    [transforms.Resize((224)),\n",
        "     transforms.ToTensor(),\n",
        "     transforms.Normalize((0.5,), (0.5,))])\n",
        "\n",
        "\n",
        "#own dataset\n",
        "trainloader = torch.utils.data.DataLoader(MyDataSet(TRAIN_LIST, classes,transform=transform),batch_size=64,shuffle = True,drop_last=True)\n",
        "testloader = torch.utils.data.DataLoader(MyDataSet(VAL_LIST, classes,transform=transform),batch_size=64,shuffle = False,drop_last=True)"
      ],
      "execution_count": null,
      "outputs": [
        {
          "output_type": "stream",
          "text": [
            "3600 400\n",
            "3600 400\n",
            "3600 400\n",
            "3600 400\n",
            "3600 400\n",
            "3600 400\n",
            "3600 400\n"
          ],
          "name": "stdout"
        }
      ]
    },
    {
      "cell_type": "markdown",
      "metadata": {
        "id": "eatXUwDXOwVp"
      },
      "source": [
        "Show training sample"
      ]
    },
    {
      "cell_type": "code",
      "metadata": {
        "colab": {
          "base_uri": "https://localhost:8080/",
          "height": 287
        },
        "id": "7TDCVX6itZ2m",
        "outputId": "ee6a6cb2-e2de-4786-b1c7-b1f0956d159f"
      },
      "source": [
        "import matplotlib.pyplot as plt\n",
        "import matplotlib.image as img\n",
        "import numpy as np\n",
        "from torch.utils.data import Dataset, DataLoader\n",
        "import torchvision\n",
        "import cv2\n",
        "\n",
        "# 이미지를 출력해주는 함수\n",
        "def imshow(img_file):\n",
        "  npimg = img_file.numpy()\n",
        "  npimg = npimg / 2 + 0.5   # unnormalize\n",
        "  plt.imshow(np.transpose(npimg, (1, 2, 0)))\n",
        "  plt.show()\n",
        "\n",
        "# train 이미지 랜덤으로 추출\n",
        "dataiter = iter(trainloader)\n",
        "images, labels = dataiter.next()\n",
        "\n",
        "\n",
        "# 이미지 출력\n",
        "imshow(torchvision.utils.make_grid(images))\n",
        "\n",
        "\n",
        "# 라벨 출력\n",
        "print(' '.join('%5s' % classes[labels[j]] for j in range(4)))"
      ],
      "execution_count": null,
      "outputs": [
        {
          "output_type": "display_data",
          "data": {
            "image/png": "[encoded data removed]",
            "text/plain": [
              "<Figure size 432x288 with 1 Axes>"
            ]
          },
          "metadata": {
            "tags": [],
            "needs_background": "light"
          }
        },
        {
          "output_type": "stream",
          "text": [
            "neutral surprise happy angry\n"
          ],
          "name": "stdout"
        }
      ]
    },
    {
      "cell_type": "code",
      "metadata": {
        "id": "sffF6v3JBdrz"
      },
      "source": [
        ""
      ],
      "execution_count": null,
      "outputs": []
    },
    {
      "cell_type": "markdown",
      "metadata": {
        "id": "gmvoEwpHXgDD"
      },
      "source": [
        "VGG16"
      ]
    },
    {
      "cell_type": "code",
      "metadata": {
        "id": "cGxKCIYTbmvb"
      },
      "source": [
        "import torch\n",
        "import torchvision\n",
        "import torchvision.transforms as transforms\n",
        "\n",
        "import torch.nn as nn\n",
        "import torch.nn.functional as F"
      ],
      "execution_count": null,
      "outputs": []
    },
    {
      "cell_type": "code",
      "metadata": {
        "id": "GRZ8iMt2N5R6",
        "colab": {
          "base_uri": "https://localhost:8080/"
        },
        "outputId": "197ed81e-9091-4a54-974a-52ed51d81c96"
      },
      "source": [
        "import torch.nn as nn\n",
        "\n",
        "class VGG16(nn.Module):\n",
        "  def __init__(self):\n",
        "    super(VGG16, self).__init__()\n",
        "    self.conv = nn.Sequential(\n",
        "        #3 224 128\n",
        "        nn.Conv2d(1, 64, 3, padding=1), nn.LeakyReLU(0.2),\n",
        "        nn.BatchNorm2d(64),\n",
        "        nn.Conv2d(64, 64, 3, padding=1), nn.LeakyReLU(0.2),\n",
        "        nn.BatchNorm2d(64),\n",
        "        nn.MaxPool2d(2,2),\n",
        "        #64 112 64\n",
        "        nn.Conv2d(64, 128, 3, padding=1), nn.LeakyReLU(0.2),\n",
        "        nn.BatchNorm2d(128),\n",
        "        nn.Conv2d(128, 128, 3, padding=1), nn.LeakyReLU(0.2),\n",
        "        nn.BatchNorm2d(128),\n",
        "        nn.MaxPool2d(2,2),\n",
        "        #128 56 32\n",
        "        nn.Conv2d(128, 256, 3, padding=1), nn.LeakyReLU(0.2),\n",
        "        nn.BatchNorm2d(256),\n",
        "        nn.Conv2d(256, 256, 3, padding=1), nn.LeakyReLU(0.2),\n",
        "        nn.BatchNorm2d(256),\n",
        "        nn.Conv2d(256, 256, 3, padding=1), nn.LeakyReLU(0.2),\n",
        "        nn.BatchNorm2d(256),\n",
        "        nn.MaxPool2d(2,2),\n",
        "        #256 28 16\n",
        "        nn.Conv2d(256, 512, 3, padding=1), nn.LeakyReLU(0.2),\n",
        "        nn.BatchNorm2d(512),\n",
        "        nn.Conv2d(512, 512, 3, padding=1), nn.LeakyReLU(0.2),\n",
        "        nn.BatchNorm2d(512),\n",
        "        nn.Conv2d(512, 512, 3, padding=1), nn.LeakyReLU(0.2),\n",
        "        nn.BatchNorm2d(512),\n",
        "        nn.MaxPool2d(2,2),\n",
        "        #512 14 8\n",
        "        nn.Conv2d(512, 512, 3, padding=1), nn.LeakyReLU(0.2),\n",
        "        nn.BatchNorm2d(512),\n",
        "        nn.Conv2d(512, 512, 3, padding=1), nn.LeakyReLU(0.2),\n",
        "        nn.BatchNorm2d(512),\n",
        "        nn.Conv2d(512, 512, 3, padding=1), nn.LeakyReLU(0.2),\n",
        "        nn.BatchNorm2d(512),\n",
        "        nn.MaxPool2d(2,2),\n",
        "    )\n",
        "    #512 7 4\n",
        "    self.avg_pool = nn.AvgPool2d(7)\n",
        "    #512 1 1\n",
        "    self.classifier = nn.Linear(512, 7)  # Fully-Connected layer  출력층으로 10개의 뉴런을 배치하여 7개 차원의 텐서로 변환   # 왜 여기서는 이 레이어를 하나만 했징? 논문은 fc레이어 3개인뎅...\n",
        "    \"\"\"\n",
        "    self.fc1 = nn.Linear(512*2*2,4096)\n",
        "    self.fc2 = nn.Linear(4096,4096)\n",
        "    self.fc3 = nn.Linear(4096,10)\n",
        "    \"\"\"\n",
        "\n",
        "  def forward(self, x):\n",
        "    #x = x.double()\n",
        "    print(x.size())\n",
        "    features = self.conv(x)\n",
        "    print(features.size())\n",
        "    x = self.avg_pool(features)\n",
        "    print(x.size())\n",
        "    x = x.view(features.size(0), -1)    # 배치 차원을 제외하고 나머지는 펼쳐라 \n",
        "    print(x.size())\n",
        "    x = self.classifier(x)\n",
        "    #x = self.softmax(x)\n",
        "    return x, features\n",
        "\n",
        "\n",
        "device = torch.device(\"cuda:0\" if torch.cuda.is_available() else \"cpu\")\n",
        "\n",
        "model = VGG16()\n",
        "model = model.to(device)\n",
        "print(model)\n",
        "param = list(model.parameters())\n",
        "print(len(param))\n",
        "#for i in param:\n",
        "#    print(i.shape)\n",
        "##print(param[0].shape)"
      ],
      "execution_count": null,
      "outputs": [
        {
          "output_type": "stream",
          "text": [
            "VGG16(\n",
            "  (conv): Sequential(\n",
            "    (0): Conv2d(1, 64, kernel_size=(3, 3), stride=(1, 1), padding=(1, 1))\n",
            "    (1): LeakyReLU(negative_slope=0.2)\n",
            "    (2): BatchNorm2d(64, eps=1e-05, momentum=0.1, affine=True, track_running_stats=True)\n",
            "    (3): Conv2d(64, 64, kernel_size=(3, 3), stride=(1, 1), padding=(1, 1))\n",
            "    (4): LeakyReLU(negative_slope=0.2)\n",
            "    (5): BatchNorm2d(64, eps=1e-05, momentum=0.1, affine=True, track_running_stats=True)\n",
            "    (6): MaxPool2d(kernel_size=2, stride=2, padding=0, dilation=1, ceil_mode=False)\n",
            "    (7): Conv2d(64, 128, kernel_size=(3, 3), stride=(1, 1), padding=(1, 1))\n",
            "    (8): LeakyReLU(negative_slope=0.2)\n",
            "    (9): BatchNorm2d(128, eps=1e-05, momentum=0.1, affine=True, track_running_stats=True)\n",
            "    (10): Conv2d(128, 128, kernel_size=(3, 3), stride=(1, 1), padding=(1, 1))\n",
            "    (11): LeakyReLU(negative_slope=0.2)\n",
            "    (12): BatchNorm2d(128, eps=1e-05, momentum=0.1, affine=True, track_running_stats=True)\n",
            "    (13): MaxPool2d(kernel_size=2, stride=2, padding=0, dilation=1, ceil_mode=False)\n",
            "    (14): Conv2d(128, 256, kernel_size=(3, 3), stride=(1, 1), padding=(1, 1))\n",
            "    (15): LeakyReLU(negative_slope=0.2)\n",
            "    (16): BatchNorm2d(256, eps=1e-05, momentum=0.1, affine=True, track_running_stats=True)\n",
            "    (17): Conv2d(256, 256, kernel_size=(3, 3), stride=(1, 1), padding=(1, 1))\n",
            "    (18): LeakyReLU(negative_slope=0.2)\n",
            "    (19): BatchNorm2d(256, eps=1e-05, momentum=0.1, affine=True, track_running_stats=True)\n",
            "    (20): Conv2d(256, 256, kernel_size=(3, 3), stride=(1, 1), padding=(1, 1))\n",
            "    (21): LeakyReLU(negative_slope=0.2)\n",
            "    (22): BatchNorm2d(256, eps=1e-05, momentum=0.1, affine=True, track_running_stats=True)\n",
            "    (23): MaxPool2d(kernel_size=2, stride=2, padding=0, dilation=1, ceil_mode=False)\n",
            "    (24): Conv2d(256, 512, kernel_size=(3, 3), stride=(1, 1), padding=(1, 1))\n",
            "    (25): LeakyReLU(negative_slope=0.2)\n",
            "    (26): BatchNorm2d(512, eps=1e-05, momentum=0.1, affine=True, track_running_stats=True)\n",
            "    (27): Conv2d(512, 512, kernel_size=(3, 3), stride=(1, 1), padding=(1, 1))\n",
            "    (28): LeakyReLU(negative_slope=0.2)\n",
            "    (29): BatchNorm2d(512, eps=1e-05, momentum=0.1, affine=True, track_running_stats=True)\n",
            "    (30): Conv2d(512, 512, kernel_size=(3, 3), stride=(1, 1), padding=(1, 1))\n",
            "    (31): LeakyReLU(negative_slope=0.2)\n",
            "    (32): BatchNorm2d(512, eps=1e-05, momentum=0.1, affine=True, track_running_stats=True)\n",
            "    (33): MaxPool2d(kernel_size=2, stride=2, padding=0, dilation=1, ceil_mode=False)\n",
            "    (34): Conv2d(512, 512, kernel_size=(3, 3), stride=(1, 1), padding=(1, 1))\n",
            "    (35): LeakyReLU(negative_slope=0.2)\n",
            "    (36): BatchNorm2d(512, eps=1e-05, momentum=0.1, affine=True, track_running_stats=True)\n",
            "    (37): Conv2d(512, 512, kernel_size=(3, 3), stride=(1, 1), padding=(1, 1))\n",
            "    (38): LeakyReLU(negative_slope=0.2)\n",
            "    (39): BatchNorm2d(512, eps=1e-05, momentum=0.1, affine=True, track_running_stats=True)\n",
            "    (40): Conv2d(512, 512, kernel_size=(3, 3), stride=(1, 1), padding=(1, 1))\n",
            "    (41): LeakyReLU(negative_slope=0.2)\n",
            "    (42): BatchNorm2d(512, eps=1e-05, momentum=0.1, affine=True, track_running_stats=True)\n",
            "    (43): MaxPool2d(kernel_size=2, stride=2, padding=0, dilation=1, ceil_mode=False)\n",
            "  )\n",
            "  (avg_pool): AvgPool2d(kernel_size=7, stride=7, padding=0)\n",
            "  (classifier): Linear(in_features=512, out_features=7, bias=True)\n",
            ")\n",
            "54\n"
          ],
          "name": "stdout"
        }
      ]
    },
    {
      "cell_type": "code",
      "metadata": {
        "id": "duNhTTa98YX0",
        "colab": {
          "base_uri": "https://localhost:8080/"
        },
        "outputId": "af8b242a-ea00-47d0-97a7-83fef28c9845"
      },
      "source": [
        "from torchsummary import summary\n",
        "summary(model, (1, 224, 224))\n",
        "#summary(model, input_size=(3, 224, 224), device=device.type)"
      ],
      "execution_count": null,
      "outputs": [
        {
          "output_type": "stream",
          "text": [
            "torch.Size([2, 1, 224, 224])\n",
            "torch.Size([2, 512, 7, 7])\n",
            "torch.Size([2, 512, 1, 1])\n",
            "torch.Size([2, 512])\n",
            "----------------------------------------------------------------\n",
            "        Layer (type)               Output Shape         Param #\n",
            "================================================================\n",
            "            Conv2d-1         [-1, 64, 224, 224]             640\n",
            "         LeakyReLU-2         [-1, 64, 224, 224]               0\n",
            "       BatchNorm2d-3         [-1, 64, 224, 224]             128\n",
            "            Conv2d-4         [-1, 64, 224, 224]          36,928\n",
            "         LeakyReLU-5         [-1, 64, 224, 224]               0\n",
            "       BatchNorm2d-6         [-1, 64, 224, 224]             128\n",
            "         MaxPool2d-7         [-1, 64, 112, 112]               0\n",
            "            Conv2d-8        [-1, 128, 112, 112]          73,856\n",
            "         LeakyReLU-9        [-1, 128, 112, 112]               0\n",
            "      BatchNorm2d-10        [-1, 128, 112, 112]             256\n",
            "           Conv2d-11        [-1, 128, 112, 112]         147,584\n",
            "        LeakyReLU-12        [-1, 128, 112, 112]               0\n",
            "      BatchNorm2d-13        [-1, 128, 112, 112]             256\n",
            "        MaxPool2d-14          [-1, 128, 56, 56]               0\n",
            "           Conv2d-15          [-1, 256, 56, 56]         295,168\n",
            "        LeakyReLU-16          [-1, 256, 56, 56]               0\n",
            "      BatchNorm2d-17          [-1, 256, 56, 56]             512\n",
            "           Conv2d-18          [-1, 256, 56, 56]         590,080\n",
            "        LeakyReLU-19          [-1, 256, 56, 56]               0\n",
            "      BatchNorm2d-20          [-1, 256, 56, 56]             512\n",
            "           Conv2d-21          [-1, 256, 56, 56]         590,080\n",
            "        LeakyReLU-22          [-1, 256, 56, 56]               0\n",
            "      BatchNorm2d-23          [-1, 256, 56, 56]             512\n",
            "        MaxPool2d-24          [-1, 256, 28, 28]               0\n",
            "           Conv2d-25          [-1, 512, 28, 28]       1,180,160\n",
            "        LeakyReLU-26          [-1, 512, 28, 28]               0\n",
            "      BatchNorm2d-27          [-1, 512, 28, 28]           1,024\n",
            "           Conv2d-28          [-1, 512, 28, 28]       2,359,808\n",
            "        LeakyReLU-29          [-1, 512, 28, 28]               0\n",
            "      BatchNorm2d-30          [-1, 512, 28, 28]           1,024\n",
            "           Conv2d-31          [-1, 512, 28, 28]       2,359,808\n",
            "        LeakyReLU-32          [-1, 512, 28, 28]               0\n",
            "      BatchNorm2d-33          [-1, 512, 28, 28]           1,024\n",
            "        MaxPool2d-34          [-1, 512, 14, 14]               0\n",
            "           Conv2d-35          [-1, 512, 14, 14]       2,359,808\n",
            "        LeakyReLU-36          [-1, 512, 14, 14]               0\n",
            "      BatchNorm2d-37          [-1, 512, 14, 14]           1,024\n",
            "           Conv2d-38          [-1, 512, 14, 14]       2,359,808\n",
            "        LeakyReLU-39          [-1, 512, 14, 14]               0\n",
            "      BatchNorm2d-40          [-1, 512, 14, 14]           1,024\n",
            "           Conv2d-41          [-1, 512, 14, 14]       2,359,808\n",
            "        LeakyReLU-42          [-1, 512, 14, 14]               0\n",
            "      BatchNorm2d-43          [-1, 512, 14, 14]           1,024\n",
            "        MaxPool2d-44            [-1, 512, 7, 7]               0\n",
            "        AvgPool2d-45            [-1, 512, 1, 1]               0\n",
            "           Linear-46                    [-1, 7]           3,591\n",
            "================================================================\n",
            "Total params: 14,725,575\n",
            "Trainable params: 14,725,575\n",
            "Non-trainable params: 0\n",
            "----------------------------------------------------------------\n",
            "Input size (MB): 0.19\n",
            "Forward/backward pass size (MB): 321.76\n",
            "Params size (MB): 56.17\n",
            "Estimated Total Size (MB): 378.12\n",
            "----------------------------------------------------------------\n"
          ],
          "name": "stdout"
        }
      ]
    },
    {
      "cell_type": "code",
      "metadata": {
        "id": "I5p7-eT7-X0V"
      },
      "source": [
        ""
      ],
      "execution_count": null,
      "outputs": []
    },
    {
      "cell_type": "code",
      "metadata": {
        "id": "5zNMbK7iy4iy"
      },
      "source": [
        ""
      ],
      "execution_count": null,
      "outputs": []
    },
    {
      "cell_type": "code",
      "metadata": {
        "id": "n74k6XlQy4f9"
      },
      "source": [
        ""
      ],
      "execution_count": null,
      "outputs": []
    },
    {
      "cell_type": "code",
      "metadata": {
        "id": "wLw59wJVy4dg"
      },
      "source": [
        ""
      ],
      "execution_count": null,
      "outputs": []
    },
    {
      "cell_type": "code",
      "metadata": {
        "id": "vV_fkHogy4bb"
      },
      "source": [
        ""
      ],
      "execution_count": null,
      "outputs": []
    },
    {
      "cell_type": "code",
      "metadata": {
        "id": "mo6IKikny4YO"
      },
      "source": [
        ""
      ],
      "execution_count": null,
      "outputs": []
    },
    {
      "cell_type": "code",
      "metadata": {
        "id": "ZzvINxnoy4VB"
      },
      "source": [
        ""
      ],
      "execution_count": null,
      "outputs": []
    },
    {
      "cell_type": "code",
      "metadata": {
        "id": "ziXS73lgy4PL"
      },
      "source": [
        ""
      ],
      "execution_count": null,
      "outputs": []
    },
    {
      "cell_type": "code",
      "metadata": {
        "colab": {
          "base_uri": "https://localhost:8080/"
        },
        "id": "EPAmNn3MfQsI",
        "outputId": "0469171c-bd3d-44e9-bb01-aae382b016bc"
      },
      "source": [
        "import torch\n",
        "#from torch.utils.data import Dataset, DataLoader, ConcatDataset, Sampler, RandomSampler, BatchSampler\n",
        "from torch.utils.data import *\n",
        "from skimage import io, transform\n",
        "from torchvision import transforms\n",
        "import cv2\n",
        "from PIL import Image\n",
        "\n",
        "\n",
        "classes = ('fear', 'happy', 'sad', 'neutral', 'disgust', 'surprise', 'angry')\n",
        "\n",
        "\n",
        "class MyDataSet(Dataset):\n",
        "\n",
        "  #data_path_list - 이미지 path 전체 리스트\n",
        "  #label - 이미지 ground truth\n",
        "\n",
        "  # 데이터셋의 전처리를 해주는 부분\n",
        "  def __init__(self, data_path_list, classes, transform=None):\n",
        "    self.path_list = data_path_list\n",
        "    self.label = self.get_label(data_path_list)\n",
        "    self.transform = transform\n",
        "    self.classes = classes\n",
        "\n",
        "  def get_label(self, data_path_list):\n",
        "    label_list = []\n",
        "    for path in data_path_list:\n",
        "      # 뒤에서 두번째가 class다.\n",
        "      label_list.append(path.split('/')[-2])   \n",
        "    return label_list\n",
        "\n",
        "  # 데이터셋의 길이. 즉, 총 샘플의 수를 적어주는 부분. 데이터의 크기 리턴\n",
        "  def __len__(self):\n",
        "    return len(self.path_list)\n",
        "\n",
        "  # 데이터셋에서 특정 1개의 샘플을 가져오는 함수. dataset[i]를 했을 때 i번째 샘플을 가져오도록 하는 인덱싱을 위한 함수\n",
        "  def __getitem__(self, idx):\n",
        "    if torch.is_tensor(idx):\n",
        "      idx = idx.tolist()\n",
        "    image = io.imread(self.path_list[idx], as_gray=True)     # 이미지가 grayscale과 컬러가 섞여있어 gray로 통일\n",
        "    if self.transform is not None:\n",
        "      image = Image.fromarray(image)\n",
        "      image = self.transform(image)\n",
        "      #image = torch.from_numpy(image).float()\n",
        "      return image, self.classes.index(self.label[idx])\n",
        "\n",
        "\n",
        "from sklearn.model_selection import train_test_split\n",
        "from glob import glob\n",
        "import os\n",
        "\n",
        "d_path = '/content/drive/Shareddrives/zeogi_gogi/dataset/'\n",
        "#f_dir = os.listdir(d_path)\n",
        "f_dir = ['fear', 'happy', 'sad', 'neutral', 'disgust', 'surprise', 'angry']\n",
        "\n",
        "TRAIN_LIST = []\n",
        "VAL_LIST = []\n",
        "\n",
        "for i in f_dir:\n",
        "  DATA_LIST = glob(d_path + str(i) + '/*.jpg')\n",
        "  train_img_list, val_img_list = train_test_split(DATA_LIST[:4000], test_size = 0.1, random_state=2002)\n",
        "  print(len(train_img_list), len(val_img_list))\n",
        "  for j in train_img_list:\n",
        "    TRAIN_LIST.append(j)\n",
        "  for k in val_img_list:\n",
        "    VAL_LIST.append(k)\n",
        "\n",
        "#print(len(TRAIN_LIST), len(VAL_LIST))\n",
        "\n",
        "'''\n",
        "transform = transforms.Compose(\n",
        "    [transforms.ToTensor(),\n",
        "     transforms.Normalize((0.5,), (0.5,))])   # 흑백이미지 transforms.Normalize((0.5,), (0.5,))\n",
        "                                              # 컬러이미지 transforms.Normalize((0.5, 0.5, 0.5), (0.5, 0.5, 0.5))\n",
        "'''\n",
        "transform = transforms.Compose(\n",
        "    [transforms.Resize((224)),\n",
        "     transforms.ToTensor(),\n",
        "     transforms.Normalize((0.5,), (0.5,))])\n",
        "\n",
        "\n",
        "#own dataset\n",
        "trainloader = torch.utils.data.DataLoader(MyDataSet(TRAIN_LIST, classes,transform=transform),batch_size=64,shuffle = True,drop_last=True)\n",
        "testloader = torch.utils.data.DataLoader(MyDataSet(VAL_LIST, classes,transform=transform),batch_size=64,shuffle = False,drop_last=True)"
      ],
      "execution_count": 2,
      "outputs": [
        {
          "output_type": "stream",
          "text": [
            "3600 400\n",
            "3600 400\n",
            "3600 400\n",
            "3600 400\n",
            "3600 400\n",
            "3600 400\n",
            "3600 400\n"
          ],
          "name": "stdout"
        }
      ]
    },
    {
      "cell_type": "markdown",
      "metadata": {
        "id": "OZ8oVd2Vs8MI"
      },
      "source": [
        "Model 모듈화"
      ]
    },
    {
      "cell_type": "code",
      "metadata": {
        "id": "XdXgB4Zmy6lh"
      },
      "source": [
        "import torch\n",
        "import torchvision\n",
        "import torchvision.transforms as transforms\n",
        "\n",
        "import torch.nn as nn\n",
        "import torch.nn.functional as F"
      ],
      "execution_count": 3,
      "outputs": []
    },
    {
      "cell_type": "code",
      "metadata": {
        "id": "Aoq6curZ-Xx5"
      },
      "source": [
        "class VGG(nn.Module):\n",
        "\n",
        "  def __init__(self, conv, num_classes=100, init_weights=True):\n",
        "    super(VGG, self).__init__()  # pytorch에서 class 형태의 모델은 항상 nn.Module을 상속받아야 하며, \n",
        "                                 # super(모델명, self).init()을 통해 nn.Module.init()을 실행시키는 코드가 필요\n",
        "\n",
        "    self.features = conv    # features\n",
        "    self.avgpool = nn.AvgPool2d(7)\n",
        "    self.classifier = nn.Linear(512, 7)   # 7은 num_classes\n",
        "    '''\n",
        "    self.classifier = nn.Sequential(\n",
        "      nn.Linear(512*7*7, 4096),\n",
        "      nn.ReLU(True),\n",
        "      nn.Dropout(),\n",
        "      nn.Linear(4096, 4096),\n",
        "      nn.ReLU(True),\n",
        "      nn.Dropout(),\n",
        "      nn.Linear(4096, num_classes),\n",
        "    )\n",
        "    '''\n",
        "\n",
        "    if init_weights:\n",
        "      self._initialize_weights()\n",
        "  \n",
        "  def forward(self, x):  # 모델이 학습 데이터를 입력 받아서 forward prop을 진행시키는 함수\n",
        "    #features = self.conv(x)\n",
        "    x = self.features(x).float()\n",
        "    x = self.avgpool(x)\n",
        "    x = x.view(x.size(0), -1)   # x = torch.flatten(x, 1) 이걸로도 가능한것인지\n",
        "    #x = torch.flatten(x, 1)\n",
        "    x = self.classifier(x)\n",
        "    #x = self.softmax(x)\n",
        "    return x\n",
        "\n",
        "\n",
        "  def _initialize_weights(self):  # 가중치 초기화 \n",
        "    for m in self.modules():  # self.modules()는 모델 클래스에서 정의된 layer들을 iterable로 차례로 반환\n",
        "      if isinstance(m, nn.Conv2d):  # isinstance()는 차례로 layer를 입력하여 layer의 형태를 반환(nn.cnv2d, nn,BatchNorm2d 등..)\n",
        "        nn.init.kaiming_normal_(m.weight, mode='fan_out', nonlinearity='relu')    # torch.nn.init.kaiming_normal_ 는  He initialization 을 제공하는 함수 \n",
        "        if m.bias is not None:\n",
        "          nn.init.constant_(m.bias, 0)\n",
        "      elif isinstance(m, nn.BatchNorm2d):\n",
        "        nn.init.constant_(m.weight, 1)\n",
        "        nn.init.constant_(m.bias, 0)\n",
        "      elif isinstance(m, nn.Linear):\n",
        "        nn.init.normal_(m.weight, 0, 0.01)  # torch.nn.init.normal_(tensor, mean=0.0, std=1.0)은 tensor을 mean, std의 normal distribution으로 초기화\n",
        "        nn.init.constant_(m.bias, 0)  # torch.nn.init.constant_(tensor, val)은 tensor을 val로 초기화\n"
      ],
      "execution_count": 4,
      "outputs": []
    },
    {
      "cell_type": "code",
      "metadata": {
        "id": "J6ysDRA8s6ea"
      },
      "source": [
        "def make_layers(cfg, batch_norm=False):\n",
        "  layers = []\n",
        "  in_channels = 1\n",
        "\n",
        "  for v in cfg:\n",
        "    if v == 'M':  # max pooling\n",
        "      layers += [nn.MaxPool2d(kernel_size=2, stride=2)]\n",
        "    else:\n",
        "      conv2d = nn.Conv2d(in_channels, v, kernel_size=3, padding=1)\n",
        "      if batch_norm:\n",
        "        layers += [conv2d, nn.BatchNorm2d(v), nn.ReLU(inplace=True)]\n",
        "      else:\n",
        "        layers += [conv2d, nn.ReLU(inplace=True)]\n",
        "      in_channels = v\n",
        "  \n",
        "  return nn.Sequential(*layers)"
      ],
      "execution_count": 5,
      "outputs": []
    },
    {
      "cell_type": "code",
      "metadata": {
        "id": "dzTtbXZvs6Px"
      },
      "source": [
        "cfg = { #8 + 3 =11 == vgg11 \n",
        "       'A': [64, 'M', 128, 'M', 256, 256, 'M', 512, 512, 'M', 512, 512, 'M'], \n",
        "       # 10 + 3 = vgg 13 \n",
        "       'B': [64, 64, 'M', 128, 128, 'M', 256, 256, 'M', 512, 512, 'M', 512, 512, 'M'], \n",
        "       #13 + 3 = vgg 16 \n",
        "       'D': [64, 64, 'M', 128, 128, 'M', 256, 256, 256, 'M', 512, 512, 512, 'M', 512, 512, 512, 'M'], \n",
        "       # 16 +3 =vgg 19 \n",
        "       'E': [64, 64, 'M', 128, 128, 'M', 256, 256, 256, 256, 'M', 512, 512, 512, 512, 'M', 512, 512, 512, 512, 'M']\n",
        "       }"
      ],
      "execution_count": 6,
      "outputs": []
    },
    {
      "cell_type": "code",
      "metadata": {
        "id": "uYwSEUgR-XrK"
      },
      "source": [
        "conv = make_layers(cfg['D'], batch_norm=True)\n",
        "# feature = make_layers(cfg['A'], batch_norm=True)"
      ],
      "execution_count": 7,
      "outputs": []
    },
    {
      "cell_type": "code",
      "metadata": {
        "id": "FKruhLSuuYLs"
      },
      "source": [
        "model = VGG(conv, num_classes=7, init_weights=True)"
      ],
      "execution_count": 8,
      "outputs": []
    },
    {
      "cell_type": "code",
      "metadata": {
        "colab": {
          "base_uri": "https://localhost:8080/"
        },
        "id": "UcflM1aTuq_L",
        "outputId": "a1aff4c0-bc3e-4291-ab76-07a4c31c2a31"
      },
      "source": [
        "model"
      ],
      "execution_count": 9,
      "outputs": [
        {
          "output_type": "execute_result",
          "data": {
            "text/plain": [
              "VGG(\n",
              "  (features): Sequential(\n",
              "    (0): Conv2d(1, 64, kernel_size=(3, 3), stride=(1, 1), padding=(1, 1))\n",
              "    (1): BatchNorm2d(64, eps=1e-05, momentum=0.1, affine=True, track_running_stats=True)\n",
              "    (2): ReLU(inplace=True)\n",
              "    (3): Conv2d(64, 64, kernel_size=(3, 3), stride=(1, 1), padding=(1, 1))\n",
              "    (4): BatchNorm2d(64, eps=1e-05, momentum=0.1, affine=True, track_running_stats=True)\n",
              "    (5): ReLU(inplace=True)\n",
              "    (6): MaxPool2d(kernel_size=2, stride=2, padding=0, dilation=1, ceil_mode=False)\n",
              "    (7): Conv2d(64, 128, kernel_size=(3, 3), stride=(1, 1), padding=(1, 1))\n",
              "    (8): BatchNorm2d(128, eps=1e-05, momentum=0.1, affine=True, track_running_stats=True)\n",
              "    (9): ReLU(inplace=True)\n",
              "    (10): Conv2d(128, 128, kernel_size=(3, 3), stride=(1, 1), padding=(1, 1))\n",
              "    (11): BatchNorm2d(128, eps=1e-05, momentum=0.1, affine=True, track_running_stats=True)\n",
              "    (12): ReLU(inplace=True)\n",
              "    (13): MaxPool2d(kernel_size=2, stride=2, padding=0, dilation=1, ceil_mode=False)\n",
              "    (14): Conv2d(128, 256, kernel_size=(3, 3), stride=(1, 1), padding=(1, 1))\n",
              "    (15): BatchNorm2d(256, eps=1e-05, momentum=0.1, affine=True, track_running_stats=True)\n",
              "    (16): ReLU(inplace=True)\n",
              "    (17): Conv2d(256, 256, kernel_size=(3, 3), stride=(1, 1), padding=(1, 1))\n",
              "    (18): BatchNorm2d(256, eps=1e-05, momentum=0.1, affine=True, track_running_stats=True)\n",
              "    (19): ReLU(inplace=True)\n",
              "    (20): Conv2d(256, 256, kernel_size=(3, 3), stride=(1, 1), padding=(1, 1))\n",
              "    (21): BatchNorm2d(256, eps=1e-05, momentum=0.1, affine=True, track_running_stats=True)\n",
              "    (22): ReLU(inplace=True)\n",
              "    (23): MaxPool2d(kernel_size=2, stride=2, padding=0, dilation=1, ceil_mode=False)\n",
              "    (24): Conv2d(256, 512, kernel_size=(3, 3), stride=(1, 1), padding=(1, 1))\n",
              "    (25): BatchNorm2d(512, eps=1e-05, momentum=0.1, affine=True, track_running_stats=True)\n",
              "    (26): ReLU(inplace=True)\n",
              "    (27): Conv2d(512, 512, kernel_size=(3, 3), stride=(1, 1), padding=(1, 1))\n",
              "    (28): BatchNorm2d(512, eps=1e-05, momentum=0.1, affine=True, track_running_stats=True)\n",
              "    (29): ReLU(inplace=True)\n",
              "    (30): Conv2d(512, 512, kernel_size=(3, 3), stride=(1, 1), padding=(1, 1))\n",
              "    (31): BatchNorm2d(512, eps=1e-05, momentum=0.1, affine=True, track_running_stats=True)\n",
              "    (32): ReLU(inplace=True)\n",
              "    (33): MaxPool2d(kernel_size=2, stride=2, padding=0, dilation=1, ceil_mode=False)\n",
              "    (34): Conv2d(512, 512, kernel_size=(3, 3), stride=(1, 1), padding=(1, 1))\n",
              "    (35): BatchNorm2d(512, eps=1e-05, momentum=0.1, affine=True, track_running_stats=True)\n",
              "    (36): ReLU(inplace=True)\n",
              "    (37): Conv2d(512, 512, kernel_size=(3, 3), stride=(1, 1), padding=(1, 1))\n",
              "    (38): BatchNorm2d(512, eps=1e-05, momentum=0.1, affine=True, track_running_stats=True)\n",
              "    (39): ReLU(inplace=True)\n",
              "    (40): Conv2d(512, 512, kernel_size=(3, 3), stride=(1, 1), padding=(1, 1))\n",
              "    (41): BatchNorm2d(512, eps=1e-05, momentum=0.1, affine=True, track_running_stats=True)\n",
              "    (42): ReLU(inplace=True)\n",
              "    (43): MaxPool2d(kernel_size=2, stride=2, padding=0, dilation=1, ceil_mode=False)\n",
              "  )\n",
              "  (avgpool): AvgPool2d(kernel_size=7, stride=7, padding=0)\n",
              "  (classifier): Linear(in_features=512, out_features=7, bias=True)\n",
              ")"
            ]
          },
          "metadata": {
            "tags": []
          },
          "execution_count": 9
        }
      ]
    },
    {
      "cell_type": "code",
      "metadata": {
        "colab": {
          "base_uri": "https://localhost:8080/"
        },
        "id": "TXnr2zTGFKiZ",
        "outputId": "8119be57-af5a-4800-e2a1-855e4331e7ec"
      },
      "source": [
        "classes = ('fear', 'happy', 'sad', 'neutral', 'disgust', 'surprise', 'angry')\n",
        "import torch.optim as optim\n",
        "import time\n",
        "\n",
        "criterion = nn.CrossEntropyLoss()\n",
        "optimizer = optim.Adam(model.parameters(),lr=0.0001)\n",
        "device = torch.device(\"cuda:0\" if torch.cuda.is_available() else \"cpu\")\n",
        "\n",
        "\n",
        "start_time = time.time()\n",
        "for epoch in range(2):  # loop over the dataset multiple times\n",
        "    trainLoss = 0.0\n",
        "    trainSize = 0\n",
        "    trainCorrect = 0\n",
        "    \n",
        "    for i, data in enumerate(trainloader, 0):\n",
        "        # get the inputs\n",
        "        inputs, labels = data\n",
        "        inputs, labels = inputs.to(device), labels.to(device)\n",
        "        # zero the parameter gradients\n",
        "        optimizer.zero_grad()\n",
        "\n",
        "        # forward + backward + optimize\n",
        "        model = model.float()\n",
        "        #outputs,f = model(inputs)\n",
        "        model = model.cuda()\n",
        "        outputs = model(inputs)\n",
        "\n",
        "        loss = criterion(outputs, labels)\n",
        "        loss.backward()\n",
        "        optimizer.step()\n",
        "\n",
        "        trainLoss += loss.item()\n",
        "\n",
        "        predicted = outputs.max(1)[1]\n",
        "        #print(predicted)\n",
        "        #print(labels)\n",
        "  \n",
        "        trainSize += labels.shape[0]\n",
        "        trainCorrect += predicted.eq(labels.view_as(predicted)).sum().item()\n",
        "        trainAccuracy = (trainCorrect / trainSize) * 100\n",
        "\n",
        "\n",
        "\n",
        "        if(loss.item() > 1000):\n",
        "            print(loss.item())\n",
        "            for param in model.parameters():\n",
        "                print(param.data)\n",
        "        # print statistics\n",
        "        running_loss += loss.item()\n",
        "        if i % 50 == 49:    # print every 2000 mini-batches\n",
        "            torch.save(model, '/content/drive/MyDrive/vgg16_batch{}_loss{}.pt'.format(i+1, trainLoss / 50))\n",
        "            print('epoch {} batch {} train_loss {}'.format(epoch+1, i+1, trainLoss / 50))\n",
        "            running_loss = 0.0\n",
        "\n",
        "\n",
        "    if i%5 == 0:\n",
        "        with torch.no_grad():\n",
        "            valLoss = 0\n",
        "            valSize = 0\n",
        "            valCorrect = 0\n",
        "\n",
        "            for j, data in enumerate(testloader):\n",
        "                # get the inputs\n",
        "                inputs, labels = data\n",
        "                inputs, labels = inputs.to(device), labels.to(device)\n",
        "\n",
        "                # forward + backward + optimize\n",
        "                model = model.float()\n",
        "                #outputs,f = model(inputs)\n",
        "                model = model.cuda()\n",
        "                outputs = model(inputs)\n",
        "\n",
        "                valLoss += criterion(outputs, labels).item()\n",
        "\n",
        "                predicted = outputs.max(1)[1]\n",
        "                valSize += labels.shape[0]\n",
        "                valCorrect += predicted.eq(labels.view_as(predicted)).sum().item()\n",
        "                valAccuracy = (valCorrect / valSize) * 100\n",
        "            \n",
        "            print('validation_loss {}'.format(valLoss))\n",
        "\n",
        "\n",
        "\n",
        "#torch.save(model, '/content/drive/MyDrive/vgg16.pt')\n",
        "#torch.save(model.state_dict(), '/content/drive/MyDrive/vgg16.pth')\n",
        "print(time.time()-start_time)\n",
        "print('Finished Training')"
      ],
      "execution_count": null,
      "outputs": [
        {
          "output_type": "stream",
          "text": [
            "epoch 1 batch 50 train_loss 1.9037514352798461\n"
          ],
          "name": "stdout"
        }
      ]
    },
    {
      "cell_type": "code",
      "metadata": {
        "id": "eEYMFc_eFKdT"
      },
      "source": [
        "# test\n",
        "model.eval()\n",
        "\n",
        "testLoss = 0\n",
        "testSize = 0\n",
        "testCorrect = 0\n",
        "\n",
        "with torch.no_grad():\n",
        "    for batchIdx, (images, labels) in enumerate(test_set):\n",
        "        images, labels = images.to(device), labels.to(device)\n",
        "        outputs = model(images)\n",
        "\n",
        "        testLoss = criterion(outputs, labels).item()\n",
        "        predicted = outputs.max(1)[1]\n",
        "\n",
        "        testSize += labels.shape[0]\n",
        "\n",
        "        testCorrect += predicted.eq(labels.view_as(predicted)).sum().item()\n",
        "        testLoss /= len(test_set.dataset)\n",
        "\n",
        "    accuracy = (testCorrect / testSize) * 100"
      ],
      "execution_count": null,
      "outputs": []
    },
    {
      "cell_type": "code",
      "metadata": {
        "id": "hWEZTANu-U_j"
      },
      "source": [
        ""
      ],
      "execution_count": null,
      "outputs": []
    },
    {
      "cell_type": "code",
      "metadata": {
        "id": "AtZMGlQNFKW4"
      },
      "source": [
        ""
      ],
      "execution_count": null,
      "outputs": []
    },
    {
      "cell_type": "code",
      "metadata": {
        "colab": {
          "base_uri": "https://localhost:8080/",
          "height": 136
        },
        "id": "pNiYnxI0A_MR",
        "outputId": "a4c9b4e8-270b-49eb-cd6b-5869dc916547"
      },
      "source": [
        "epoch = 10\n",
        "lr = 0.0004\n",
        "optimizer = optim.Adam(model.parameters(), lr = lr)\n",
        "criterion = torch.nn.CrossEntropyLoss()\n",
        "\n",
        "for epoch in range(epoch):\n",
        "\t\ttrainLoss = 0\n",
        "\t\ttrainSize = 0\n",
        "\t\ttrainCorrect = 0\n",
        "\n",
        "\t\t# train \n",
        "\t\tfor batchIdx, data in enumerate(trainData):\n",
        "\t\t    images, labels = data\n",
        "\t\t    images, labels = images.to(device), labels.to(device)\n",
        "\t\t\n",
        "\t\t    optimizer.zero_grad()\n",
        "\t\t    outputs = model(images)\n",
        "\t\t\n",
        "\t\t    loss = criterion(outputs, labels)\n",
        "\t\t    loss.backward()\n",
        "\t\t\n",
        "\t\t    optimizer.step()\n",
        "\t\t    trainLoss = loss.item()\n",
        "\t\t\n",
        "\t\t    _, predicted = outputs.max(1)\n",
        "\t\t    trainSize += labels.shape[0]\n",
        "\t\t    trainCorrect += predicted.eq(labels.view_as(predicted)).sum().item()\n",
        "\t\t    trainAccuracy = 100 * trainCorrect / trainSize\n",
        "\t\t\n",
        "\t\t# validation\n",
        "\t\twith torch.no_grad():\n",
        "        valLoss = 0\n",
        "        valSize = 0\n",
        "        valCorrect = 0\n",
        "\n",
        "        for batchIdx, data in enumerate(valData):\n",
        "            images, labels = data\n",
        "            images, labels = images.to(device), labels.to(device)\n",
        "\n",
        "            outputs = model(images)\n",
        "            valLoss = criterion(outputs, labels).item()\n",
        "\n",
        "            _, predicted = outputs.max(1)\n",
        "            valSize += labels.shape[0]\n",
        "\n",
        "            valCorrect += predicted.eq(labels.view_as(predicted)).sum().item()\n",
        "            valAccuracy = 100 * valCorrect / valSize\n",
        "\n",
        "\n",
        "# test\n",
        "model.eval()\n",
        "\n",
        "testLoss = 0\n",
        "testSize = 0\n",
        "testCorrect = 0\n",
        "\n",
        "with torch.no_grad():\n",
        "    for batchIdx, (images, labels) in enumerate(test_set):\n",
        "        images, labels = images.to(device), labels.to(device)\n",
        "        outputs = model(images)\n",
        "\n",
        "        testLoss = criterion(outputs, labels).item()\n",
        "        _, predicted = outputs.max(1)\n",
        "\n",
        "        testSize += labels.shape[0]\n",
        "\n",
        "        testCorrect += predicted.eq(labels.view_as(predicted)).sum().item()\n",
        "        testLoss /= len(test_set.dataset)\n",
        "\n",
        "    accuracy = 100 * testCorrect / testSize"
      ],
      "execution_count": 13,
      "outputs": [
        {
          "output_type": "error",
          "ename": "IndentationError",
          "evalue": "ignored",
          "traceback": [
            "\u001b[0;36m  File \u001b[0;32m\"<ipython-input-13-d7346989cdf8>\"\u001b[0;36m, line \u001b[0;32m32\u001b[0m\n\u001b[0;31m    valLoss = 0\u001b[0m\n\u001b[0m               ^\u001b[0m\n\u001b[0;31mIndentationError\u001b[0m\u001b[0;31m:\u001b[0m unindent does not match any outer indentation level\n"
          ]
        }
      ]
    },
    {
      "cell_type": "code",
      "metadata": {
        "id": "lBLmF7feA-7r"
      },
      "source": [
        ""
      ],
      "execution_count": null,
      "outputs": []
    },
    {
      "cell_type": "code",
      "metadata": {
        "id": "A6xV4rufuqxr"
      },
      "source": [
        ""
      ],
      "execution_count": null,
      "outputs": []
    },
    {
      "cell_type": "markdown",
      "metadata": {
        "id": "AVQxGvUHyQpv"
      },
      "source": [
        "Training"
      ]
    },
    {
      "cell_type": "code",
      "metadata": {
        "id": "lOgp9Kam_dzc"
      },
      "source": [
        "classes = ('fear', 'happy', 'sad', 'neutral', 'disgust', 'surprise', 'angry')\n",
        "import torch.optim as optim\n",
        "import time\n",
        "\n",
        "criterion = nn.CrossEntropyLoss()\n",
        "optimizer = optim.Adam(model.parameters(),lr=0.0001)\n",
        "#device = torch.device(\"cuda:0\")\n",
        "device = torch.device(\"cuda:0\" if torch.cuda.is_available() else \"cpu\")\n",
        "#cuda = device.type != 'cpu'"
      ],
      "execution_count": 22,
      "outputs": []
    },
    {
      "cell_type": "code",
      "metadata": {
        "colab": {
          "base_uri": "https://localhost:8080/",
          "height": 412
        },
        "id": "R4NOGKio3w6-",
        "outputId": "a89ce63c-345e-4255-faa2-67fb5be0eae3"
      },
      "source": [
        "start_time = time.time()\n",
        "for epoch in range(2):  # loop over the dataset multiple times\n",
        "    running_loss = 0.0\n",
        "    #dataiter = iter(trainloader)\n",
        "    #images, labels = dataiter.next()\n",
        "    for i, data in enumerate(trainloader, 0):\n",
        "        # get the inputs\n",
        "        inputs, labels = data\n",
        "        #inputs = torch.FloatTensor(inputs)   # 20210510  RuntimeError: expected scalar type Double but found Float\n",
        "        #labels = torch.FloatTensor(labels)   # 20210510  RuntimeError: expected scalar type Double but found Float\n",
        "        inputs, labels = inputs.to(device), labels.to(device)\n",
        "        # zero the parameter gradients\n",
        "        optimizer.zero_grad()\n",
        "\n",
        "        #print(inputs.shape)\n",
        "        #print(inputs.shape)  \n",
        "        # forward + backward + optimize\n",
        "        model = model.float()\n",
        "        #outputs,f = model(inputs)\n",
        "        model = model.cuda()\n",
        "        outputs = model(inputs)   # 20210510  RuntimeError: expected scalar type Double but found Float\n",
        "        #outputs = output.type(torch.FloatTensor).cuda()\n",
        "        #labels = labels.type(torch.FloatTensor).cuda()\n",
        "        #print(outputs.shape)\n",
        "        #print(labels.shape)\n",
        "        loss = criterion(outputs, labels)\n",
        "        loss.backward()\n",
        "        optimizer.step()\n",
        "\n",
        "        if(loss.item() > 1000):\n",
        "            print(loss.item())\n",
        "            for param in model.parameters():\n",
        "                print(param.data)\n",
        "        # print statistics\n",
        "        running_loss += loss.item()\n",
        "        if i % 50 == 49:    # print every 2000 mini-batches\n",
        "            print('[%d, %5d] loss: %.3f' %\n",
        "                  (epoch + 1, i + 1, running_loss / 50))\n",
        "            running_loss = 0.0\n",
        "\n",
        "torch.save(model, '/content/drive/MyDrive/vgg16.pt')\n",
        "torch.save(model.state_dict(), '/content/drive/MyDrive/vgg16.pth')\n",
        "print(time.time()-start_time)\n",
        "print('Finished Training')\n",
        "    "
      ],
      "execution_count": 23,
      "outputs": [
        {
          "output_type": "error",
          "ename": "RuntimeError",
          "evalue": "ignored",
          "traceback": [
            "\u001b[0;31m---------------------------------------------------------------------------\u001b[0m",
            "\u001b[0;31mRuntimeError\u001b[0m                              Traceback (most recent call last)",
            "\u001b[0;32m<ipython-input-23-877094d0170e>\u001b[0m in \u001b[0;36m<module>\u001b[0;34m()\u001b[0m\n\u001b[1;32m     19\u001b[0m         \u001b[0;31m#outputs,f = model(inputs)\u001b[0m\u001b[0;34m\u001b[0m\u001b[0;34m\u001b[0m\u001b[0;34m\u001b[0m\u001b[0m\n\u001b[1;32m     20\u001b[0m         \u001b[0mmodel\u001b[0m \u001b[0;34m=\u001b[0m \u001b[0mmodel\u001b[0m\u001b[0;34m.\u001b[0m\u001b[0mcuda\u001b[0m\u001b[0;34m(\u001b[0m\u001b[0;34m)\u001b[0m\u001b[0;34m\u001b[0m\u001b[0;34m\u001b[0m\u001b[0m\n\u001b[0;32m---> 21\u001b[0;31m         \u001b[0moutputs\u001b[0m \u001b[0;34m=\u001b[0m \u001b[0mmodel\u001b[0m\u001b[0;34m(\u001b[0m\u001b[0minputs\u001b[0m\u001b[0;34m)\u001b[0m   \u001b[0;31m# 20210510  RuntimeError: expected scalar type Double but found Float\u001b[0m\u001b[0;34m\u001b[0m\u001b[0;34m\u001b[0m\u001b[0m\n\u001b[0m\u001b[1;32m     22\u001b[0m         \u001b[0;31m#outputs = output.type(torch.FloatTensor).cuda()\u001b[0m\u001b[0;34m\u001b[0m\u001b[0;34m\u001b[0m\u001b[0;34m\u001b[0m\u001b[0m\n\u001b[1;32m     23\u001b[0m         \u001b[0;31m#labels = labels.type(torch.FloatTensor).cuda()\u001b[0m\u001b[0;34m\u001b[0m\u001b[0;34m\u001b[0m\u001b[0;34m\u001b[0m\u001b[0m\n",
            "\u001b[0;32m/usr/local/lib/python3.7/dist-packages/torch/nn/modules/module.py\u001b[0m in \u001b[0;36m_call_impl\u001b[0;34m(self, *input, **kwargs)\u001b[0m\n\u001b[1;32m    887\u001b[0m             \u001b[0mresult\u001b[0m \u001b[0;34m=\u001b[0m \u001b[0mself\u001b[0m\u001b[0;34m.\u001b[0m\u001b[0m_slow_forward\u001b[0m\u001b[0;34m(\u001b[0m\u001b[0;34m*\u001b[0m\u001b[0minput\u001b[0m\u001b[0;34m,\u001b[0m \u001b[0;34m**\u001b[0m\u001b[0mkwargs\u001b[0m\u001b[0;34m)\u001b[0m\u001b[0;34m\u001b[0m\u001b[0;34m\u001b[0m\u001b[0m\n\u001b[1;32m    888\u001b[0m         \u001b[0;32melse\u001b[0m\u001b[0;34m:\u001b[0m\u001b[0;34m\u001b[0m\u001b[0;34m\u001b[0m\u001b[0m\n\u001b[0;32m--> 889\u001b[0;31m             \u001b[0mresult\u001b[0m \u001b[0;34m=\u001b[0m \u001b[0mself\u001b[0m\u001b[0;34m.\u001b[0m\u001b[0mforward\u001b[0m\u001b[0;34m(\u001b[0m\u001b[0;34m*\u001b[0m\u001b[0minput\u001b[0m\u001b[0;34m,\u001b[0m \u001b[0;34m**\u001b[0m\u001b[0mkwargs\u001b[0m\u001b[0;34m)\u001b[0m\u001b[0;34m\u001b[0m\u001b[0;34m\u001b[0m\u001b[0m\n\u001b[0m\u001b[1;32m    890\u001b[0m         for hook in itertools.chain(\n\u001b[1;32m    891\u001b[0m                 \u001b[0m_global_forward_hooks\u001b[0m\u001b[0;34m.\u001b[0m\u001b[0mvalues\u001b[0m\u001b[0;34m(\u001b[0m\u001b[0;34m)\u001b[0m\u001b[0;34m,\u001b[0m\u001b[0;34m\u001b[0m\u001b[0;34m\u001b[0m\u001b[0m\n",
            "\u001b[0;32m<ipython-input-16-ed724f58dd9a>\u001b[0m in \u001b[0;36mforward\u001b[0;34m(self, x)\u001b[0m\n\u001b[1;32m     25\u001b[0m   \u001b[0;32mdef\u001b[0m \u001b[0mforward\u001b[0m\u001b[0;34m(\u001b[0m\u001b[0mself\u001b[0m\u001b[0;34m,\u001b[0m \u001b[0mx\u001b[0m\u001b[0;34m)\u001b[0m\u001b[0;34m:\u001b[0m  \u001b[0;31m# 모델이 학습 데이터를 입력 받아서 forward prop을 진행시키는 함수\u001b[0m\u001b[0;34m\u001b[0m\u001b[0;34m\u001b[0m\u001b[0m\n\u001b[1;32m     26\u001b[0m     \u001b[0;31m#features = self.conv(x)\u001b[0m\u001b[0;34m\u001b[0m\u001b[0;34m\u001b[0m\u001b[0;34m\u001b[0m\u001b[0m\n\u001b[0;32m---> 27\u001b[0;31m     \u001b[0mx\u001b[0m \u001b[0;34m=\u001b[0m \u001b[0mself\u001b[0m\u001b[0;34m.\u001b[0m\u001b[0mfeatures\u001b[0m\u001b[0;34m(\u001b[0m\u001b[0mx\u001b[0m\u001b[0;34m)\u001b[0m\u001b[0;34m.\u001b[0m\u001b[0mfloat\u001b[0m\u001b[0;34m(\u001b[0m\u001b[0;34m)\u001b[0m\u001b[0;34m\u001b[0m\u001b[0;34m\u001b[0m\u001b[0m\n\u001b[0m\u001b[1;32m     28\u001b[0m     \u001b[0mx\u001b[0m \u001b[0;34m=\u001b[0m \u001b[0mself\u001b[0m\u001b[0;34m.\u001b[0m\u001b[0mavgpool\u001b[0m\u001b[0;34m(\u001b[0m\u001b[0mx\u001b[0m\u001b[0;34m)\u001b[0m\u001b[0;34m\u001b[0m\u001b[0;34m\u001b[0m\u001b[0m\n\u001b[1;32m     29\u001b[0m     \u001b[0mx\u001b[0m \u001b[0;34m=\u001b[0m \u001b[0mx\u001b[0m\u001b[0;34m.\u001b[0m\u001b[0mview\u001b[0m\u001b[0;34m(\u001b[0m\u001b[0mx\u001b[0m\u001b[0;34m.\u001b[0m\u001b[0msize\u001b[0m\u001b[0;34m(\u001b[0m\u001b[0;36m0\u001b[0m\u001b[0;34m)\u001b[0m\u001b[0;34m,\u001b[0m \u001b[0;34m-\u001b[0m\u001b[0;36m1\u001b[0m\u001b[0;34m)\u001b[0m   \u001b[0;31m# x = torch.flatten(x, 1) 이걸로도 가능한것인지\u001b[0m\u001b[0;34m\u001b[0m\u001b[0;34m\u001b[0m\u001b[0m\n",
            "\u001b[0;32m/usr/local/lib/python3.7/dist-packages/torch/nn/modules/module.py\u001b[0m in \u001b[0;36m_call_impl\u001b[0;34m(self, *input, **kwargs)\u001b[0m\n\u001b[1;32m    887\u001b[0m             \u001b[0mresult\u001b[0m \u001b[0;34m=\u001b[0m \u001b[0mself\u001b[0m\u001b[0;34m.\u001b[0m\u001b[0m_slow_forward\u001b[0m\u001b[0;34m(\u001b[0m\u001b[0;34m*\u001b[0m\u001b[0minput\u001b[0m\u001b[0;34m,\u001b[0m \u001b[0;34m**\u001b[0m\u001b[0mkwargs\u001b[0m\u001b[0;34m)\u001b[0m\u001b[0;34m\u001b[0m\u001b[0;34m\u001b[0m\u001b[0m\n\u001b[1;32m    888\u001b[0m         \u001b[0;32melse\u001b[0m\u001b[0;34m:\u001b[0m\u001b[0;34m\u001b[0m\u001b[0;34m\u001b[0m\u001b[0m\n\u001b[0;32m--> 889\u001b[0;31m             \u001b[0mresult\u001b[0m \u001b[0;34m=\u001b[0m \u001b[0mself\u001b[0m\u001b[0;34m.\u001b[0m\u001b[0mforward\u001b[0m\u001b[0;34m(\u001b[0m\u001b[0;34m*\u001b[0m\u001b[0minput\u001b[0m\u001b[0;34m,\u001b[0m \u001b[0;34m**\u001b[0m\u001b[0mkwargs\u001b[0m\u001b[0;34m)\u001b[0m\u001b[0;34m\u001b[0m\u001b[0;34m\u001b[0m\u001b[0m\n\u001b[0m\u001b[1;32m    890\u001b[0m         for hook in itertools.chain(\n\u001b[1;32m    891\u001b[0m                 \u001b[0m_global_forward_hooks\u001b[0m\u001b[0;34m.\u001b[0m\u001b[0mvalues\u001b[0m\u001b[0;34m(\u001b[0m\u001b[0;34m)\u001b[0m\u001b[0;34m,\u001b[0m\u001b[0;34m\u001b[0m\u001b[0;34m\u001b[0m\u001b[0m\n",
            "\u001b[0;32m/usr/local/lib/python3.7/dist-packages/torch/nn/modules/container.py\u001b[0m in \u001b[0;36mforward\u001b[0;34m(self, input)\u001b[0m\n\u001b[1;32m    117\u001b[0m     \u001b[0;32mdef\u001b[0m \u001b[0mforward\u001b[0m\u001b[0;34m(\u001b[0m\u001b[0mself\u001b[0m\u001b[0;34m,\u001b[0m \u001b[0minput\u001b[0m\u001b[0;34m)\u001b[0m\u001b[0;34m:\u001b[0m\u001b[0;34m\u001b[0m\u001b[0;34m\u001b[0m\u001b[0m\n\u001b[1;32m    118\u001b[0m         \u001b[0;32mfor\u001b[0m \u001b[0mmodule\u001b[0m \u001b[0;32min\u001b[0m \u001b[0mself\u001b[0m\u001b[0;34m:\u001b[0m\u001b[0;34m\u001b[0m\u001b[0;34m\u001b[0m\u001b[0m\n\u001b[0;32m--> 119\u001b[0;31m             \u001b[0minput\u001b[0m \u001b[0;34m=\u001b[0m \u001b[0mmodule\u001b[0m\u001b[0;34m(\u001b[0m\u001b[0minput\u001b[0m\u001b[0;34m)\u001b[0m\u001b[0;34m\u001b[0m\u001b[0;34m\u001b[0m\u001b[0m\n\u001b[0m\u001b[1;32m    120\u001b[0m         \u001b[0;32mreturn\u001b[0m \u001b[0minput\u001b[0m\u001b[0;34m\u001b[0m\u001b[0;34m\u001b[0m\u001b[0m\n\u001b[1;32m    121\u001b[0m \u001b[0;34m\u001b[0m\u001b[0m\n",
            "\u001b[0;32m/usr/local/lib/python3.7/dist-packages/torch/nn/modules/module.py\u001b[0m in \u001b[0;36m_call_impl\u001b[0;34m(self, *input, **kwargs)\u001b[0m\n\u001b[1;32m    887\u001b[0m             \u001b[0mresult\u001b[0m \u001b[0;34m=\u001b[0m \u001b[0mself\u001b[0m\u001b[0;34m.\u001b[0m\u001b[0m_slow_forward\u001b[0m\u001b[0;34m(\u001b[0m\u001b[0;34m*\u001b[0m\u001b[0minput\u001b[0m\u001b[0;34m,\u001b[0m \u001b[0;34m**\u001b[0m\u001b[0mkwargs\u001b[0m\u001b[0;34m)\u001b[0m\u001b[0;34m\u001b[0m\u001b[0;34m\u001b[0m\u001b[0m\n\u001b[1;32m    888\u001b[0m         \u001b[0;32melse\u001b[0m\u001b[0;34m:\u001b[0m\u001b[0;34m\u001b[0m\u001b[0;34m\u001b[0m\u001b[0m\n\u001b[0;32m--> 889\u001b[0;31m             \u001b[0mresult\u001b[0m \u001b[0;34m=\u001b[0m \u001b[0mself\u001b[0m\u001b[0;34m.\u001b[0m\u001b[0mforward\u001b[0m\u001b[0;34m(\u001b[0m\u001b[0;34m*\u001b[0m\u001b[0minput\u001b[0m\u001b[0;34m,\u001b[0m \u001b[0;34m**\u001b[0m\u001b[0mkwargs\u001b[0m\u001b[0;34m)\u001b[0m\u001b[0;34m\u001b[0m\u001b[0;34m\u001b[0m\u001b[0m\n\u001b[0m\u001b[1;32m    890\u001b[0m         for hook in itertools.chain(\n\u001b[1;32m    891\u001b[0m                 \u001b[0m_global_forward_hooks\u001b[0m\u001b[0;34m.\u001b[0m\u001b[0mvalues\u001b[0m\u001b[0;34m(\u001b[0m\u001b[0;34m)\u001b[0m\u001b[0;34m,\u001b[0m\u001b[0;34m\u001b[0m\u001b[0;34m\u001b[0m\u001b[0m\n",
            "\u001b[0;32m/usr/local/lib/python3.7/dist-packages/torch/nn/modules/conv.py\u001b[0m in \u001b[0;36mforward\u001b[0;34m(self, input)\u001b[0m\n\u001b[1;32m    397\u001b[0m \u001b[0;34m\u001b[0m\u001b[0m\n\u001b[1;32m    398\u001b[0m     \u001b[0;32mdef\u001b[0m \u001b[0mforward\u001b[0m\u001b[0;34m(\u001b[0m\u001b[0mself\u001b[0m\u001b[0;34m,\u001b[0m \u001b[0minput\u001b[0m\u001b[0;34m:\u001b[0m \u001b[0mTensor\u001b[0m\u001b[0;34m)\u001b[0m \u001b[0;34m->\u001b[0m \u001b[0mTensor\u001b[0m\u001b[0;34m:\u001b[0m\u001b[0;34m\u001b[0m\u001b[0;34m\u001b[0m\u001b[0m\n\u001b[0;32m--> 399\u001b[0;31m         \u001b[0;32mreturn\u001b[0m \u001b[0mself\u001b[0m\u001b[0;34m.\u001b[0m\u001b[0m_conv_forward\u001b[0m\u001b[0;34m(\u001b[0m\u001b[0minput\u001b[0m\u001b[0;34m,\u001b[0m \u001b[0mself\u001b[0m\u001b[0;34m.\u001b[0m\u001b[0mweight\u001b[0m\u001b[0;34m,\u001b[0m \u001b[0mself\u001b[0m\u001b[0;34m.\u001b[0m\u001b[0mbias\u001b[0m\u001b[0;34m)\u001b[0m\u001b[0;34m\u001b[0m\u001b[0;34m\u001b[0m\u001b[0m\n\u001b[0m\u001b[1;32m    400\u001b[0m \u001b[0;34m\u001b[0m\u001b[0m\n\u001b[1;32m    401\u001b[0m \u001b[0;32mclass\u001b[0m \u001b[0mConv3d\u001b[0m\u001b[0;34m(\u001b[0m\u001b[0m_ConvNd\u001b[0m\u001b[0;34m)\u001b[0m\u001b[0;34m:\u001b[0m\u001b[0;34m\u001b[0m\u001b[0;34m\u001b[0m\u001b[0m\n",
            "\u001b[0;32m/usr/local/lib/python3.7/dist-packages/torch/nn/modules/conv.py\u001b[0m in \u001b[0;36m_conv_forward\u001b[0;34m(self, input, weight, bias)\u001b[0m\n\u001b[1;32m    394\u001b[0m                             _pair(0), self.dilation, self.groups)\n\u001b[1;32m    395\u001b[0m         return F.conv2d(input, weight, bias, self.stride,\n\u001b[0;32m--> 396\u001b[0;31m                         self.padding, self.dilation, self.groups)\n\u001b[0m\u001b[1;32m    397\u001b[0m \u001b[0;34m\u001b[0m\u001b[0m\n\u001b[1;32m    398\u001b[0m     \u001b[0;32mdef\u001b[0m \u001b[0mforward\u001b[0m\u001b[0;34m(\u001b[0m\u001b[0mself\u001b[0m\u001b[0;34m,\u001b[0m \u001b[0minput\u001b[0m\u001b[0;34m:\u001b[0m \u001b[0mTensor\u001b[0m\u001b[0;34m)\u001b[0m \u001b[0;34m->\u001b[0m \u001b[0mTensor\u001b[0m\u001b[0;34m:\u001b[0m\u001b[0;34m\u001b[0m\u001b[0;34m\u001b[0m\u001b[0m\n",
            "\u001b[0;31mRuntimeError\u001b[0m: CUDA out of memory. Tried to allocate 784.00 MiB (GPU 0; 7.43 GiB total capacity; 6.57 GiB already allocated; 90.81 MiB free; 6.64 GiB reserved in total by PyTorch)"
          ]
        }
      ]
    },
    {
      "cell_type": "code",
      "metadata": {
        "id": "YIYZoNpJC9Gn"
      },
      "source": [
        "/usr/local/lib/python3.7/dist-packages/torchvision/transforms/functional.py:132: UserWarning: The given NumPy array is not writeable, and PyTorch does not support non-writeable tensors. This means you can write to the underlying (supposedly non-writeable) NumPy array using the tensor. You may want to copy the array to protect its data or make it writeable before converting it to a tensor. This type of warning will be suppressed for the rest of this program. (Triggered internally at  /pytorch/torch/csrc/utils/tensor_numpy.cpp:143.)\n",
        "  img = torch.from_numpy(np.array(pic, np.float32, copy=False))"
      ],
      "execution_count": null,
      "outputs": []
    },
    {
      "cell_type": "markdown",
      "metadata": {
        "id": "se_bXlekyH2Y"
      },
      "source": [
        "Validation"
      ]
    },
    {
      "cell_type": "code",
      "metadata": {
        "id": "Anhv_CjNyHU_",
        "colab": {
          "base_uri": "https://localhost:8080/",
          "height": 412
        },
        "outputId": "0c4d3fa7-5d3f-464b-8e66-80a6b1374575"
      },
      "source": [
        "class_correct = list(0. for i in range(10))\n",
        "class_total = list(0. for i in range(10))\n",
        "with torch.no_grad():\n",
        "    for data in testloader:\n",
        "        images, labels = data\n",
        "        images = images.cuda()\n",
        "        labels = labels.cuda()\n",
        "        outputs = model(images)\n",
        "        #outputs,_ = model(images)\n",
        "        _, predicted = torch.max(outputs, 1)\n",
        "        c = (predicted == labels).squeeze()\n",
        "        for i in range(4):\n",
        "            label = labels[i]\n",
        "            class_correct[label] += c[i].item()\n",
        "            class_total[label] += 1\n",
        "\n",
        "\n",
        "for i in range(10):\n",
        "    print('Accuracy of %5s : %2d %%' % (\n",
        "        classes[i], 100 * class_correct[i] / class_total[i]))"
      ],
      "execution_count": 24,
      "outputs": [
        {
          "output_type": "error",
          "ename": "RuntimeError",
          "evalue": "ignored",
          "traceback": [
            "\u001b[0;31m---------------------------------------------------------------------------\u001b[0m",
            "\u001b[0;31mRuntimeError\u001b[0m                              Traceback (most recent call last)",
            "\u001b[0;32m<ipython-input-24-f85e2533af18>\u001b[0m in \u001b[0;36m<module>\u001b[0;34m()\u001b[0m\n\u001b[1;32m      6\u001b[0m         \u001b[0mimages\u001b[0m \u001b[0;34m=\u001b[0m \u001b[0mimages\u001b[0m\u001b[0;34m.\u001b[0m\u001b[0mcuda\u001b[0m\u001b[0;34m(\u001b[0m\u001b[0;34m)\u001b[0m\u001b[0;34m\u001b[0m\u001b[0;34m\u001b[0m\u001b[0m\n\u001b[1;32m      7\u001b[0m         \u001b[0mlabels\u001b[0m \u001b[0;34m=\u001b[0m \u001b[0mlabels\u001b[0m\u001b[0;34m.\u001b[0m\u001b[0mcuda\u001b[0m\u001b[0;34m(\u001b[0m\u001b[0;34m)\u001b[0m\u001b[0;34m\u001b[0m\u001b[0;34m\u001b[0m\u001b[0m\n\u001b[0;32m----> 8\u001b[0;31m         \u001b[0moutputs\u001b[0m \u001b[0;34m=\u001b[0m \u001b[0mmodel\u001b[0m\u001b[0;34m(\u001b[0m\u001b[0mimages\u001b[0m\u001b[0;34m)\u001b[0m\u001b[0;34m\u001b[0m\u001b[0;34m\u001b[0m\u001b[0m\n\u001b[0m\u001b[1;32m      9\u001b[0m         \u001b[0;31m#outputs,_ = model(images)\u001b[0m\u001b[0;34m\u001b[0m\u001b[0;34m\u001b[0m\u001b[0;34m\u001b[0m\u001b[0m\n\u001b[1;32m     10\u001b[0m         \u001b[0m_\u001b[0m\u001b[0;34m,\u001b[0m \u001b[0mpredicted\u001b[0m \u001b[0;34m=\u001b[0m \u001b[0mtorch\u001b[0m\u001b[0;34m.\u001b[0m\u001b[0mmax\u001b[0m\u001b[0;34m(\u001b[0m\u001b[0moutputs\u001b[0m\u001b[0;34m,\u001b[0m \u001b[0;36m1\u001b[0m\u001b[0;34m)\u001b[0m\u001b[0;34m\u001b[0m\u001b[0;34m\u001b[0m\u001b[0m\n",
            "\u001b[0;32m/usr/local/lib/python3.7/dist-packages/torch/nn/modules/module.py\u001b[0m in \u001b[0;36m_call_impl\u001b[0;34m(self, *input, **kwargs)\u001b[0m\n\u001b[1;32m    887\u001b[0m             \u001b[0mresult\u001b[0m \u001b[0;34m=\u001b[0m \u001b[0mself\u001b[0m\u001b[0;34m.\u001b[0m\u001b[0m_slow_forward\u001b[0m\u001b[0;34m(\u001b[0m\u001b[0;34m*\u001b[0m\u001b[0minput\u001b[0m\u001b[0;34m,\u001b[0m \u001b[0;34m**\u001b[0m\u001b[0mkwargs\u001b[0m\u001b[0;34m)\u001b[0m\u001b[0;34m\u001b[0m\u001b[0;34m\u001b[0m\u001b[0m\n\u001b[1;32m    888\u001b[0m         \u001b[0;32melse\u001b[0m\u001b[0;34m:\u001b[0m\u001b[0;34m\u001b[0m\u001b[0;34m\u001b[0m\u001b[0m\n\u001b[0;32m--> 889\u001b[0;31m             \u001b[0mresult\u001b[0m \u001b[0;34m=\u001b[0m \u001b[0mself\u001b[0m\u001b[0;34m.\u001b[0m\u001b[0mforward\u001b[0m\u001b[0;34m(\u001b[0m\u001b[0;34m*\u001b[0m\u001b[0minput\u001b[0m\u001b[0;34m,\u001b[0m \u001b[0;34m**\u001b[0m\u001b[0mkwargs\u001b[0m\u001b[0;34m)\u001b[0m\u001b[0;34m\u001b[0m\u001b[0;34m\u001b[0m\u001b[0m\n\u001b[0m\u001b[1;32m    890\u001b[0m         for hook in itertools.chain(\n\u001b[1;32m    891\u001b[0m                 \u001b[0m_global_forward_hooks\u001b[0m\u001b[0;34m.\u001b[0m\u001b[0mvalues\u001b[0m\u001b[0;34m(\u001b[0m\u001b[0;34m)\u001b[0m\u001b[0;34m,\u001b[0m\u001b[0;34m\u001b[0m\u001b[0;34m\u001b[0m\u001b[0m\n",
            "\u001b[0;32m<ipython-input-16-ed724f58dd9a>\u001b[0m in \u001b[0;36mforward\u001b[0;34m(self, x)\u001b[0m\n\u001b[1;32m     25\u001b[0m   \u001b[0;32mdef\u001b[0m \u001b[0mforward\u001b[0m\u001b[0;34m(\u001b[0m\u001b[0mself\u001b[0m\u001b[0;34m,\u001b[0m \u001b[0mx\u001b[0m\u001b[0;34m)\u001b[0m\u001b[0;34m:\u001b[0m  \u001b[0;31m# 모델이 학습 데이터를 입력 받아서 forward prop을 진행시키는 함수\u001b[0m\u001b[0;34m\u001b[0m\u001b[0;34m\u001b[0m\u001b[0m\n\u001b[1;32m     26\u001b[0m     \u001b[0;31m#features = self.conv(x)\u001b[0m\u001b[0;34m\u001b[0m\u001b[0;34m\u001b[0m\u001b[0;34m\u001b[0m\u001b[0m\n\u001b[0;32m---> 27\u001b[0;31m     \u001b[0mx\u001b[0m \u001b[0;34m=\u001b[0m \u001b[0mself\u001b[0m\u001b[0;34m.\u001b[0m\u001b[0mfeatures\u001b[0m\u001b[0;34m(\u001b[0m\u001b[0mx\u001b[0m\u001b[0;34m)\u001b[0m\u001b[0;34m.\u001b[0m\u001b[0mfloat\u001b[0m\u001b[0;34m(\u001b[0m\u001b[0;34m)\u001b[0m\u001b[0;34m\u001b[0m\u001b[0;34m\u001b[0m\u001b[0m\n\u001b[0m\u001b[1;32m     28\u001b[0m     \u001b[0mx\u001b[0m \u001b[0;34m=\u001b[0m \u001b[0mself\u001b[0m\u001b[0;34m.\u001b[0m\u001b[0mavgpool\u001b[0m\u001b[0;34m(\u001b[0m\u001b[0mx\u001b[0m\u001b[0;34m)\u001b[0m\u001b[0;34m\u001b[0m\u001b[0;34m\u001b[0m\u001b[0m\n\u001b[1;32m     29\u001b[0m     \u001b[0mx\u001b[0m \u001b[0;34m=\u001b[0m \u001b[0mx\u001b[0m\u001b[0;34m.\u001b[0m\u001b[0mview\u001b[0m\u001b[0;34m(\u001b[0m\u001b[0mx\u001b[0m\u001b[0;34m.\u001b[0m\u001b[0msize\u001b[0m\u001b[0;34m(\u001b[0m\u001b[0;36m0\u001b[0m\u001b[0;34m)\u001b[0m\u001b[0;34m,\u001b[0m \u001b[0;34m-\u001b[0m\u001b[0;36m1\u001b[0m\u001b[0;34m)\u001b[0m   \u001b[0;31m# x = torch.flatten(x, 1) 이걸로도 가능한것인지\u001b[0m\u001b[0;34m\u001b[0m\u001b[0;34m\u001b[0m\u001b[0m\n",
            "\u001b[0;32m/usr/local/lib/python3.7/dist-packages/torch/nn/modules/module.py\u001b[0m in \u001b[0;36m_call_impl\u001b[0;34m(self, *input, **kwargs)\u001b[0m\n\u001b[1;32m    887\u001b[0m             \u001b[0mresult\u001b[0m \u001b[0;34m=\u001b[0m \u001b[0mself\u001b[0m\u001b[0;34m.\u001b[0m\u001b[0m_slow_forward\u001b[0m\u001b[0;34m(\u001b[0m\u001b[0;34m*\u001b[0m\u001b[0minput\u001b[0m\u001b[0;34m,\u001b[0m \u001b[0;34m**\u001b[0m\u001b[0mkwargs\u001b[0m\u001b[0;34m)\u001b[0m\u001b[0;34m\u001b[0m\u001b[0;34m\u001b[0m\u001b[0m\n\u001b[1;32m    888\u001b[0m         \u001b[0;32melse\u001b[0m\u001b[0;34m:\u001b[0m\u001b[0;34m\u001b[0m\u001b[0;34m\u001b[0m\u001b[0m\n\u001b[0;32m--> 889\u001b[0;31m             \u001b[0mresult\u001b[0m \u001b[0;34m=\u001b[0m \u001b[0mself\u001b[0m\u001b[0;34m.\u001b[0m\u001b[0mforward\u001b[0m\u001b[0;34m(\u001b[0m\u001b[0;34m*\u001b[0m\u001b[0minput\u001b[0m\u001b[0;34m,\u001b[0m \u001b[0;34m**\u001b[0m\u001b[0mkwargs\u001b[0m\u001b[0;34m)\u001b[0m\u001b[0;34m\u001b[0m\u001b[0;34m\u001b[0m\u001b[0m\n\u001b[0m\u001b[1;32m    890\u001b[0m         for hook in itertools.chain(\n\u001b[1;32m    891\u001b[0m                 \u001b[0m_global_forward_hooks\u001b[0m\u001b[0;34m.\u001b[0m\u001b[0mvalues\u001b[0m\u001b[0;34m(\u001b[0m\u001b[0;34m)\u001b[0m\u001b[0;34m,\u001b[0m\u001b[0;34m\u001b[0m\u001b[0;34m\u001b[0m\u001b[0m\n",
            "\u001b[0;32m/usr/local/lib/python3.7/dist-packages/torch/nn/modules/container.py\u001b[0m in \u001b[0;36mforward\u001b[0;34m(self, input)\u001b[0m\n\u001b[1;32m    117\u001b[0m     \u001b[0;32mdef\u001b[0m \u001b[0mforward\u001b[0m\u001b[0;34m(\u001b[0m\u001b[0mself\u001b[0m\u001b[0;34m,\u001b[0m \u001b[0minput\u001b[0m\u001b[0;34m)\u001b[0m\u001b[0;34m:\u001b[0m\u001b[0;34m\u001b[0m\u001b[0;34m\u001b[0m\u001b[0m\n\u001b[1;32m    118\u001b[0m         \u001b[0;32mfor\u001b[0m \u001b[0mmodule\u001b[0m \u001b[0;32min\u001b[0m \u001b[0mself\u001b[0m\u001b[0;34m:\u001b[0m\u001b[0;34m\u001b[0m\u001b[0;34m\u001b[0m\u001b[0m\n\u001b[0;32m--> 119\u001b[0;31m             \u001b[0minput\u001b[0m \u001b[0;34m=\u001b[0m \u001b[0mmodule\u001b[0m\u001b[0;34m(\u001b[0m\u001b[0minput\u001b[0m\u001b[0;34m)\u001b[0m\u001b[0;34m\u001b[0m\u001b[0;34m\u001b[0m\u001b[0m\n\u001b[0m\u001b[1;32m    120\u001b[0m         \u001b[0;32mreturn\u001b[0m \u001b[0minput\u001b[0m\u001b[0;34m\u001b[0m\u001b[0;34m\u001b[0m\u001b[0m\n\u001b[1;32m    121\u001b[0m \u001b[0;34m\u001b[0m\u001b[0m\n",
            "\u001b[0;32m/usr/local/lib/python3.7/dist-packages/torch/nn/modules/module.py\u001b[0m in \u001b[0;36m_call_impl\u001b[0;34m(self, *input, **kwargs)\u001b[0m\n\u001b[1;32m    887\u001b[0m             \u001b[0mresult\u001b[0m \u001b[0;34m=\u001b[0m \u001b[0mself\u001b[0m\u001b[0;34m.\u001b[0m\u001b[0m_slow_forward\u001b[0m\u001b[0;34m(\u001b[0m\u001b[0;34m*\u001b[0m\u001b[0minput\u001b[0m\u001b[0;34m,\u001b[0m \u001b[0;34m**\u001b[0m\u001b[0mkwargs\u001b[0m\u001b[0;34m)\u001b[0m\u001b[0;34m\u001b[0m\u001b[0;34m\u001b[0m\u001b[0m\n\u001b[1;32m    888\u001b[0m         \u001b[0;32melse\u001b[0m\u001b[0;34m:\u001b[0m\u001b[0;34m\u001b[0m\u001b[0;34m\u001b[0m\u001b[0m\n\u001b[0;32m--> 889\u001b[0;31m             \u001b[0mresult\u001b[0m \u001b[0;34m=\u001b[0m \u001b[0mself\u001b[0m\u001b[0;34m.\u001b[0m\u001b[0mforward\u001b[0m\u001b[0;34m(\u001b[0m\u001b[0;34m*\u001b[0m\u001b[0minput\u001b[0m\u001b[0;34m,\u001b[0m \u001b[0;34m**\u001b[0m\u001b[0mkwargs\u001b[0m\u001b[0;34m)\u001b[0m\u001b[0;34m\u001b[0m\u001b[0;34m\u001b[0m\u001b[0m\n\u001b[0m\u001b[1;32m    890\u001b[0m         for hook in itertools.chain(\n\u001b[1;32m    891\u001b[0m                 \u001b[0m_global_forward_hooks\u001b[0m\u001b[0;34m.\u001b[0m\u001b[0mvalues\u001b[0m\u001b[0;34m(\u001b[0m\u001b[0;34m)\u001b[0m\u001b[0;34m,\u001b[0m\u001b[0;34m\u001b[0m\u001b[0;34m\u001b[0m\u001b[0m\n",
            "\u001b[0;32m/usr/local/lib/python3.7/dist-packages/torch/nn/modules/conv.py\u001b[0m in \u001b[0;36mforward\u001b[0;34m(self, input)\u001b[0m\n\u001b[1;32m    397\u001b[0m \u001b[0;34m\u001b[0m\u001b[0m\n\u001b[1;32m    398\u001b[0m     \u001b[0;32mdef\u001b[0m \u001b[0mforward\u001b[0m\u001b[0;34m(\u001b[0m\u001b[0mself\u001b[0m\u001b[0;34m,\u001b[0m \u001b[0minput\u001b[0m\u001b[0;34m:\u001b[0m \u001b[0mTensor\u001b[0m\u001b[0;34m)\u001b[0m \u001b[0;34m->\u001b[0m \u001b[0mTensor\u001b[0m\u001b[0;34m:\u001b[0m\u001b[0;34m\u001b[0m\u001b[0;34m\u001b[0m\u001b[0m\n\u001b[0;32m--> 399\u001b[0;31m         \u001b[0;32mreturn\u001b[0m \u001b[0mself\u001b[0m\u001b[0;34m.\u001b[0m\u001b[0m_conv_forward\u001b[0m\u001b[0;34m(\u001b[0m\u001b[0minput\u001b[0m\u001b[0;34m,\u001b[0m \u001b[0mself\u001b[0m\u001b[0;34m.\u001b[0m\u001b[0mweight\u001b[0m\u001b[0;34m,\u001b[0m \u001b[0mself\u001b[0m\u001b[0;34m.\u001b[0m\u001b[0mbias\u001b[0m\u001b[0;34m)\u001b[0m\u001b[0;34m\u001b[0m\u001b[0;34m\u001b[0m\u001b[0m\n\u001b[0m\u001b[1;32m    400\u001b[0m \u001b[0;34m\u001b[0m\u001b[0m\n\u001b[1;32m    401\u001b[0m \u001b[0;32mclass\u001b[0m \u001b[0mConv3d\u001b[0m\u001b[0;34m(\u001b[0m\u001b[0m_ConvNd\u001b[0m\u001b[0;34m)\u001b[0m\u001b[0;34m:\u001b[0m\u001b[0;34m\u001b[0m\u001b[0;34m\u001b[0m\u001b[0m\n",
            "\u001b[0;32m/usr/local/lib/python3.7/dist-packages/torch/nn/modules/conv.py\u001b[0m in \u001b[0;36m_conv_forward\u001b[0;34m(self, input, weight, bias)\u001b[0m\n\u001b[1;32m    394\u001b[0m                             _pair(0), self.dilation, self.groups)\n\u001b[1;32m    395\u001b[0m         return F.conv2d(input, weight, bias, self.stride,\n\u001b[0;32m--> 396\u001b[0;31m                         self.padding, self.dilation, self.groups)\n\u001b[0m\u001b[1;32m    397\u001b[0m \u001b[0;34m\u001b[0m\u001b[0m\n\u001b[1;32m    398\u001b[0m     \u001b[0;32mdef\u001b[0m \u001b[0mforward\u001b[0m\u001b[0;34m(\u001b[0m\u001b[0mself\u001b[0m\u001b[0;34m,\u001b[0m \u001b[0minput\u001b[0m\u001b[0;34m:\u001b[0m \u001b[0mTensor\u001b[0m\u001b[0;34m)\u001b[0m \u001b[0;34m->\u001b[0m \u001b[0mTensor\u001b[0m\u001b[0;34m:\u001b[0m\u001b[0;34m\u001b[0m\u001b[0;34m\u001b[0m\u001b[0m\n",
            "\u001b[0;31mRuntimeError\u001b[0m: CUDA out of memory. Tried to allocate 784.00 MiB (GPU 0; 7.43 GiB total capacity; 6.57 GiB already allocated; 90.81 MiB free; 6.64 GiB reserved in total by PyTorch)"
          ]
        }
      ]
    },
    {
      "cell_type": "code",
      "metadata": {
        "id": "OUybbpmmyHHg"
      },
      "source": [
        ""
      ],
      "execution_count": null,
      "outputs": []
    },
    {
      "cell_type": "code",
      "metadata": {
        "id": "wj_Vu-F8k_LU"
      },
      "source": [
        "# 2 epoch  lr=0.00001\n",
        "[1,    50] loss: 1.941\n",
        "[1,   100] loss: 1.907\n",
        ":\n",
        ":\n",
        "[2,    50] loss: 1.621\n",
        "[2,   100] loss: 1.621\n",
        "[2,   150] loss: 1.570\n",
        "[2,   200] loss: 1.562\n",
        "[2,   250] loss: 1.538\n",
        "[2,   300] loss: 1.517\n",
        "[2,   350] loss: 1.507\n",
        "8473.449843883514\n",
        "Finished Training"
      ],
      "execution_count": null,
      "outputs": []
    },
    {
      "cell_type": "code",
      "metadata": {
        "id": "UC--4kP09458"
      },
      "source": [
        "[1,   100] loss: 1.857\n"
      ],
      "execution_count": null,
      "outputs": []
    },
    {
      "cell_type": "markdown",
      "metadata": {
        "id": "TVOdcTNJ-EKa"
      },
      "source": [
        "Netron 사용한 모델 구조 확인"
      ]
    },
    {
      "cell_type": "code",
      "metadata": {
        "id": "mxBaSXYyk-_B"
      },
      "source": [
        "import torch\n",
        "import torchvision # model을 불러오기 위해 import 하였습니다.\n",
        "import torch.onnx\n",
        "\n",
        "# 1. 임의의 model을 사용해도 되며, 실제 사용하는 custom model을 불러와서 저장해 보시기 바랍니다.\n",
        "model = torchvision.models.vgg16(pretrained=False)\n",
        "\n",
        "# 2. model의 파라미터를 OrderedDict 형태로 저장합니다.\n",
        "params = model.state_dict()\n",
        "\n",
        "# 3. 동적 그래프 형태의 pytorch model을 위하여 data를 model로 흘려주기 위한 더미 데이터 입니다.\n",
        "dummy_data = torch.empty(1, 3, 224, 224, dtype = torch.float32)\n",
        "\n",
        "# 4. onnx 파일을 export 해줍니다. 함수에는 차례대로 model, data, 저장할 파일명 순서대로 들어가면 됩니다.\n",
        "torch.onnx.export(model, dummy_data, \"output.onnx\")"
      ],
      "execution_count": null,
      "outputs": []
    },
    {
      "cell_type": "markdown",
      "metadata": {
        "id": "D3Zb0FKk-I5i"
      },
      "source": [
        "우리가 직접 만든 모델 확인"
      ]
    },
    {
      "cell_type": "code",
      "metadata": {
        "id": "zuN0uQ-c-B3C"
      },
      "source": [
        "import torch\n",
        "import torchvision # model을 불러오기 위해 import 하였습니다.\n",
        "import torch.onnx\n",
        "\n",
        "# 1. 임의의 model을 사용해도 되며, 실제 사용하는 custom model을 불러와서 저장해 보시기 바랍니다.\n",
        "model = model = VGG(conv, num_classes=7, init_weights=True)\n",
        "\n",
        "# 2. model의 파라미터를 OrderedDict 형태로 저장합니다.\n",
        "params = model.state_dict()\n",
        "\n",
        "# 3. 동적 그래프 형태의 pytorch model을 위하여 data를 model로 흘려주기 위한 더미 데이터 입니다.\n",
        "dummy_data = torch.empty(1, 1, 224, 224, dtype = torch.float32)\n",
        "#dummy_data = torch.empty(1, 3, 224, 224, dtype = torch.float32)\n",
        "\n",
        "# 4. onnx 파일을 export 해줍니다. 함수에는 차례대로 model, data, 저장할 파일명 순서대로 들어가면 됩니다.\n",
        "torch.onnx.export(model, dummy_data, \"MyVGG16.onnx\")"
      ],
      "execution_count": null,
      "outputs": []
    },
    {
      "cell_type": "code",
      "metadata": {
        "id": "lHU9IbUTk-2c"
      },
      "source": [
        "!pip install netron"
      ],
      "execution_count": null,
      "outputs": []
    },
    {
      "cell_type": "code",
      "metadata": {
        "id": "y4XuoNkTlCS5"
      },
      "source": [
        "import netron\n",
        "\n",
        "netron.start('E:\\\\Python_Project\\\\MyVGG16.onnx')"
      ],
      "execution_count": null,
      "outputs": []
    },
    {
      "cell_type": "code",
      "metadata": {
        "id": "8BFHXz1kk-kt"
      },
      "source": [
        ""
      ],
      "execution_count": null,
      "outputs": []
    },
    {
      "cell_type": "code",
      "metadata": {
        "id": "e_J8SdHvN5Ic",
        "colab": {
          "base_uri": "https://localhost:8080/",
          "height": 368
        },
        "outputId": "7998ee8f-d0eb-4025-9ec6-8a28dd12b63c"
      },
      "source": [
        "from torchsummary import summary\n",
        "\n",
        "#summary(net, input_size=(1, 224, 224), device=device.type)\n",
        "summary(model, (1, 224, 224))"
      ],
      "execution_count": null,
      "outputs": [
        {
          "output_type": "error",
          "ename": "NotImplementedError",
          "evalue": "ignored",
          "traceback": [
            "\u001b[0;31m---------------------------------------------------------------------------\u001b[0m",
            "\u001b[0;31mNotImplementedError\u001b[0m                       Traceback (most recent call last)",
            "\u001b[0;32m<ipython-input-15-328c9e18d97d>\u001b[0m in \u001b[0;36m<module>\u001b[0;34m()\u001b[0m\n\u001b[1;32m      2\u001b[0m \u001b[0;34m\u001b[0m\u001b[0m\n\u001b[1;32m      3\u001b[0m \u001b[0;31m#summary(net, input_size=(3, 224, 224), device=device.type)\u001b[0m\u001b[0;34m\u001b[0m\u001b[0;34m\u001b[0m\u001b[0;34m\u001b[0m\u001b[0m\n\u001b[0;32m----> 4\u001b[0;31m \u001b[0msummary\u001b[0m\u001b[0;34m(\u001b[0m\u001b[0mmodel\u001b[0m\u001b[0;34m,\u001b[0m \u001b[0;34m(\u001b[0m\u001b[0;36m3\u001b[0m\u001b[0;34m,\u001b[0m \u001b[0;36m224\u001b[0m\u001b[0;34m,\u001b[0m \u001b[0;36m224\u001b[0m\u001b[0;34m)\u001b[0m\u001b[0;34m)\u001b[0m\u001b[0;34m\u001b[0m\u001b[0;34m\u001b[0m\u001b[0m\n\u001b[0m",
            "\u001b[0;32m/usr/local/lib/python3.7/dist-packages/torchsummary/torchsummary.py\u001b[0m in \u001b[0;36msummary\u001b[0;34m(model, input_size, batch_size, device)\u001b[0m\n\u001b[1;32m     70\u001b[0m     \u001b[0;31m# make a forward pass\u001b[0m\u001b[0;34m\u001b[0m\u001b[0;34m\u001b[0m\u001b[0;34m\u001b[0m\u001b[0m\n\u001b[1;32m     71\u001b[0m     \u001b[0;31m# print(x.shape)\u001b[0m\u001b[0;34m\u001b[0m\u001b[0;34m\u001b[0m\u001b[0;34m\u001b[0m\u001b[0m\n\u001b[0;32m---> 72\u001b[0;31m     \u001b[0mmodel\u001b[0m\u001b[0;34m(\u001b[0m\u001b[0;34m*\u001b[0m\u001b[0mx\u001b[0m\u001b[0;34m)\u001b[0m\u001b[0;34m\u001b[0m\u001b[0;34m\u001b[0m\u001b[0m\n\u001b[0m\u001b[1;32m     73\u001b[0m \u001b[0;34m\u001b[0m\u001b[0m\n\u001b[1;32m     74\u001b[0m     \u001b[0;31m# remove these hooks\u001b[0m\u001b[0;34m\u001b[0m\u001b[0;34m\u001b[0m\u001b[0;34m\u001b[0m\u001b[0m\n",
            "\u001b[0;32m/usr/local/lib/python3.7/dist-packages/torch/nn/modules/module.py\u001b[0m in \u001b[0;36m_call_impl\u001b[0;34m(self, *input, **kwargs)\u001b[0m\n\u001b[1;32m    887\u001b[0m             \u001b[0mresult\u001b[0m \u001b[0;34m=\u001b[0m \u001b[0mself\u001b[0m\u001b[0;34m.\u001b[0m\u001b[0m_slow_forward\u001b[0m\u001b[0;34m(\u001b[0m\u001b[0;34m*\u001b[0m\u001b[0minput\u001b[0m\u001b[0;34m,\u001b[0m \u001b[0;34m**\u001b[0m\u001b[0mkwargs\u001b[0m\u001b[0;34m)\u001b[0m\u001b[0;34m\u001b[0m\u001b[0;34m\u001b[0m\u001b[0m\n\u001b[1;32m    888\u001b[0m         \u001b[0;32melse\u001b[0m\u001b[0;34m:\u001b[0m\u001b[0;34m\u001b[0m\u001b[0;34m\u001b[0m\u001b[0m\n\u001b[0;32m--> 889\u001b[0;31m             \u001b[0mresult\u001b[0m \u001b[0;34m=\u001b[0m \u001b[0mself\u001b[0m\u001b[0;34m.\u001b[0m\u001b[0mforward\u001b[0m\u001b[0;34m(\u001b[0m\u001b[0;34m*\u001b[0m\u001b[0minput\u001b[0m\u001b[0;34m,\u001b[0m \u001b[0;34m**\u001b[0m\u001b[0mkwargs\u001b[0m\u001b[0;34m)\u001b[0m\u001b[0;34m\u001b[0m\u001b[0;34m\u001b[0m\u001b[0m\n\u001b[0m\u001b[1;32m    890\u001b[0m         for hook in itertools.chain(\n\u001b[1;32m    891\u001b[0m                 \u001b[0m_global_forward_hooks\u001b[0m\u001b[0;34m.\u001b[0m\u001b[0mvalues\u001b[0m\u001b[0;34m(\u001b[0m\u001b[0;34m)\u001b[0m\u001b[0;34m,\u001b[0m\u001b[0;34m\u001b[0m\u001b[0;34m\u001b[0m\u001b[0m\n",
            "\u001b[0;32m/usr/local/lib/python3.7/dist-packages/torch/nn/modules/module.py\u001b[0m in \u001b[0;36m_forward_unimplemented\u001b[0;34m(self, *input)\u001b[0m\n\u001b[1;32m    199\u001b[0m         \u001b[0mregistered\u001b[0m \u001b[0mhooks\u001b[0m \u001b[0;32mwhile\u001b[0m \u001b[0mthe\u001b[0m \u001b[0mlatter\u001b[0m \u001b[0msilently\u001b[0m \u001b[0mignores\u001b[0m \u001b[0mthem\u001b[0m\u001b[0;34m.\u001b[0m\u001b[0;34m\u001b[0m\u001b[0;34m\u001b[0m\u001b[0m\n\u001b[1;32m    200\u001b[0m     \"\"\"\n\u001b[0;32m--> 201\u001b[0;31m     \u001b[0;32mraise\u001b[0m \u001b[0mNotImplementedError\u001b[0m\u001b[0;34m\u001b[0m\u001b[0;34m\u001b[0m\u001b[0m\n\u001b[0m\u001b[1;32m    202\u001b[0m \u001b[0;34m\u001b[0m\u001b[0m\n\u001b[1;32m    203\u001b[0m \u001b[0;34m\u001b[0m\u001b[0m\n",
            "\u001b[0;31mNotImplementedError\u001b[0m: "
          ]
        }
      ]
    },
    {
      "cell_type": "markdown",
      "metadata": {
        "id": "_yPfEZOON66U"
      },
      "source": [
        "참고"
      ]
    },
    {
      "cell_type": "code",
      "metadata": {
        "id": "_jhFoWkXODQa"
      },
      "source": [
        "'''\n",
        "import torch\n",
        "#from torch.utils.data import Dataset, DataLoader, ConcatDataset, Sampler, RandomSampler, BatchSampler\n",
        "from torch.utils.data import *\n",
        "from skimage import io, transform\n",
        "from torchvision import transforms\n",
        "\n",
        "transform = transforms.Compose(\n",
        "    [transforms.ToTensor(),\n",
        "     transforms.Normalize((0.5,), (0.5,))])   # 흑백이미지 transforms.Normalize((0.5,), (0.5,))\n",
        "                                              # 컬러이미지 transforms.Normalize((0.5, 0.5, 0.5), (0.5, 0.5, 0.5))\n",
        "\n",
        "classes = ('fear', 'happy', 'sad', 'neutral', 'disgust', 'surprise', 'angry')\n",
        "\n",
        "\n",
        "class MyDataSet(Dataset):\n",
        "\n",
        "  #data_path_list - 이미지 path 전체 리스트\n",
        "  #label - 이미지 ground truth\n",
        "  def __init__(self, data_path_list, classes, transform=None):\n",
        "    self.path_list = data_path_list\n",
        "    self.label = MyDataSet.get_label(data_path_list)\n",
        "    self.transform = transform\n",
        "    self.classes = classes\n",
        "\n",
        "  def get_label(data_path_list):\n",
        "    label_list = []\n",
        "    for path in data_path_list:\n",
        "      # 뒤에서 두번째가 class다.\n",
        "      label_list.append(path.split('/')[-2])   \n",
        "    return label_list\n",
        "\n",
        "  def __len__(self):\n",
        "    return len(self.path_list)\n",
        "\n",
        "  def __getitem__(self, idx):\n",
        "    if torch.is_tensor(idx):\n",
        "      idx = idx.tolist()\n",
        "    image = io.imread(self.path_list[idx])\n",
        "    if self.transform is not None:\n",
        "      image = self.transform(image)\n",
        "      return image, self.classes.index(self.label[idx])\n",
        "\n",
        "\n",
        "\n",
        "from sklearn.model_selection import train_test_split\n",
        "from glob import glob\n",
        "\n",
        "DATA_LIST = glob('/content/gdrive/Shareddrives/zeogi_gogi/dataset/*/*.jpg')\n",
        "train_img_list, val_img_list = train_test_split(DATA_LIST, test_size = 0.1, random_state=2000)\n",
        "\n",
        "#own dataset\n",
        "trainloader = torch.utils.data.DataLoader(\n",
        "    MyDataSet(\n",
        "        train_img_list, \n",
        "        classes,\n",
        "        transform=transform\n",
        "    ),\n",
        "    batch_size=4,\n",
        "    shuffle = True\n",
        ")\n",
        "\n",
        "testloader = torch.utils.data.DataLoader(\n",
        "    MyDataSet(\n",
        "        val_img_list, \n",
        "        classes,\n",
        "        transform=transform\n",
        "    ),\n",
        "    batch_size=4,\n",
        "    shuffle = False\n",
        ")\n",
        "'''"
      ],
      "execution_count": null,
      "outputs": []
    },
    {
      "cell_type": "code",
      "metadata": {
        "id": "hXYseqTKyYc5"
      },
      "source": [
        "# Data augmentation and normalization for training\n",
        "# Just normalization for validation\n",
        "data_transforms = {\n",
        "    'train': transforms.Compose([\n",
        "        transforms.RandomResizedCrop(224),\n",
        "        transforms.RandomHorizontalFlip(),\n",
        "        transforms.ToTensor(),\n",
        "        transforms.Normalize([0.485, 0.456, 0.406], [0.229, 0.224, 0.225])\n",
        "    ]),\n",
        "    'val': transforms.Compose([\n",
        "        transforms.Resize(256),\n",
        "        transforms.CenterCrop(224),\n",
        "        transforms.ToTensor(),\n",
        "        transforms.Normalize([0.485, 0.456, 0.406], [0.229, 0.224, 0.225])\n",
        "    ]),\n",
        "}\n",
        "\n",
        "data_dir = '/content/gdrive/Shareddrives/zeogi_gogi/dataset/'\n",
        "\n",
        "image_datasets = {x: datasets.ImageFolder(os.path.join(data_dir, x),\n",
        "                                          data_transforms[x])\n",
        "                  for x in ['train', 'val']}\n",
        "dataloaders = {x: torch.utils.data.DataLoader(image_datasets[x], batch_size=4,\n",
        "                                             shuffle=True, num_workers=4)\n",
        "              for x in ['train', 'val']}\n",
        "dataset_sizes = {x: len(image_datasets[x]) for x in ['train', 'val']}\n",
        "class_names = image_datasets['train'].classes\n",
        "\n",
        "device = torch.device(\"cuda:0\" if torch.cuda.is_available() else \"cpu\")"
      ],
      "execution_count": null,
      "outputs": []
    },
    {
      "cell_type": "code",
      "metadata": {
        "id": "vuotp2eSx3j5"
      },
      "source": [
        "def imshow(inp, title=None):\n",
        "    \"\"\"Imshow for Tensor.\"\"\"\n",
        "    inp = inp.numpy().transpose((1, 2, 0))\n",
        "    mean = np.array([0.485, 0.456, 0.406])\n",
        "    std = np.array([0.229, 0.224, 0.225])\n",
        "    inp = std * inp + mean\n",
        "    inp = np.clip(inp, 0, 1)\n",
        "    plt.imshow(inp)\n",
        "    if title is not None:\n",
        "        plt.title(title)\n",
        "    plt.pause(0.001)  # pause a bit so that plots are updated\n",
        "\n",
        "\n",
        "# Get a batch of training data\n",
        "inputs, classes = next(iter(trainloader))\n",
        "\n",
        "# Make a grid from batch\n",
        "out = torchvision.utils.make_grid(inputs)\n",
        "\n",
        "imshow(out, title=[class_names[x] for x in classes])"
      ],
      "execution_count": null,
      "outputs": []
    },
    {
      "cell_type": "code",
      "metadata": {
        "id": "_vVxEzQAtZzX"
      },
      "source": [
        "class ImageDataset(Dataset):\n",
        "    def read_data_set(self):\n",
        "\n",
        "        all_img_files = []\n",
        "        all_labels = []\n",
        "\n",
        "        class_names = os.walk(self.data_set_path).__next__()[1]\n",
        "\n",
        "        for index, class_name in enumerate(class_names):\n",
        "            label = index\n",
        "            img_dir = os.path.join(self.data_set_path, class_name)\n",
        "            img_files = os.walk(img_dir).__next__()[2]\n",
        "\n",
        "            for img_file in img_files:\n",
        "                img_file = os.path.join(img_dir, img_file)\n",
        "                img = Image.open(img_file)\n",
        "                if img is not None:\n",
        "                    all_img_files.append(img_file)\n",
        "                    all_labels.append(label)\n",
        "\n",
        "        return all_img_files, all_labels, len(all_img_files), len(class_names), class_names\n",
        "\n",
        "    def __init__(self, data_set_path, transforms=None):\n",
        "        self.data_set_path = data_set_path\n",
        "        self.image_files_path, self.labels, self.length, self.num_classes, self.class_names = self.read_data_set()\n",
        "        self.transforms = transforms\n",
        "\n",
        "    def __getitem__(self, index):\n",
        "        image = Image.open(self.image_files_path[index])\n",
        "        image = image.convert(\"RGB\")\n",
        "\n",
        "        if self.transforms is not None:\n",
        "            image = self.transforms(image)\n",
        "\n",
        "        return image, self.labels[index], self.class_names\n",
        "\n",
        "    def __len__(self):\n",
        "        return self.length"
      ],
      "execution_count": null,
      "outputs": []
    },
    {
      "cell_type": "code",
      "metadata": {
        "id": "_xF23xgSuCUS"
      },
      "source": [
        "# path='D:/py3_conv_test/'\n",
        "path = '/content/gdrive/Shareddrives/zeogi_gogi/dataset/'\n",
        "f_dir = os.listdir(path)\n",
        "\n",
        "trans=transforms.Compose([transforms.Resize((200,200)),\n",
        "                          transforms.ToTensor()])\n",
        "data_class=ImageDataset(path + f_dir[0], transforms=trans)\n",
        "data_class_set=torch.utils.data.DataLoader(data_class, batch_size=1, shuffle=True )"
      ],
      "execution_count": null,
      "outputs": []
    },
    {
      "cell_type": "code",
      "metadata": {
        "id": "hKCyO5artZje"
      },
      "source": [
        "import torch.nn as nn\n",
        "\n",
        "class VGG16(nn.Module):\n",
        "  def __init__(self):\n",
        "    super(VGG16, self).__init__()\n",
        "    self.conv = nn.Sequential(\n",
        "        #3 224 128\n",
        "        nn.Conv2d(3, 64, 3, padding=1), nn.LeakyReLU(0.2),\n",
        "        nn.Conv2d(64, 64, 3, padding=1), nn.LeakyReLU(0.2),\n",
        "        nn.MaxPool2d(2,2),\n",
        "        #64 112 64\n",
        "        nn.Conv2d(64, 128, 3, padding=1), nn.LeakyReLU(0.2),\n",
        "        nn.Conv2d(128, 128, 3, padding=1), nn.LeakyReLU(0.2),\n",
        "        nn.MaxPool2d(2,2),\n",
        "        #128 56 32\n",
        "        nn.Conv2d(128, 256, 3, padding=1), nn.LeakyReLU(0.2),\n",
        "        nn.Conv2d(256, 256, 3, padding=1), nn.LeakyReLU(0.2),\n",
        "        nn.Conv2d(256, 256, 3, padding=1), nn.LeakyReLU(0.2),\n",
        "        nn.MaxPool2d(2,2),\n",
        "        #256 28 16\n",
        "        nn.Conv2d(256, 512, 3, padding=1), nn.LeakyReLU(0.2),\n",
        "        nn.Conv2d(512, 512, 3, padding=1), nn.LeakyReLU(0.2),\n",
        "        nn.Conv2d(512, 512, 3, padding=1), nn.LeakyReLU(0.2),\n",
        "        nn.MaxPool2d(2,2),\n",
        "        #512 14 8\n",
        "        nn.Conv2d(512, 512, 3, padding=1), nn.LeakyReLU(0.2),\n",
        "        nn.Conv2d(512, 512, 3, padding=1), nn.LeakyReLU(0.2),\n",
        "        nn.Conv2d(512, 512, 3, padding=1), nn.LeakyReLU(0.2),\n",
        "        nn.MaxPool2d(2,2),\n",
        "    )\n",
        "    #512 7 4\n",
        "    self.avg_pool = nn.AvgPool2d(7)\n",
        "    #512 1 1\n",
        "    self.classifier = nn.Linear(512, 10)\n",
        "\n",
        "\n",
        "  def forward(self, x):\n",
        "\n",
        "    print(x.size())\n",
        "    features = self.conv(x)\n",
        "    print(features.size())\n",
        "    x = self.avg_pool(features)\n",
        "    print(avg_pool.size())\n",
        "    x = x.view(features.size(0), -1)\n",
        "    print(flatten.size())\n",
        "    x = self.classifier(x)\n",
        "    x = self.softmax(x)\n",
        "    return x, features\n",
        "\n",
        "\n",
        "device = torch.device(\"cuda:0\" if torch.cuda.is_available() else \"cpu\")\n",
        "\n",
        "net = VGG16()\n",
        "net = net.to(device)\n",
        "param = list(net.parameters())\n",
        "print(len(param))\n",
        "for i in param:\n",
        "    print(i.shape)\n",
        "#print(param[0].shape)\n"
      ],
      "execution_count": null,
      "outputs": []
    }
  ]
}